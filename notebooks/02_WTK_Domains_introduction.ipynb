{
 "cells": [
  {
   "cell_type": "markdown",
   "metadata": {},
   "source": [
    "## NREL WIND Toolkit Domains (CONUS, Canada, Mexico) - HSDS Demo"
   ]
  },
  {
   "cell_type": "markdown",
   "metadata": {},
   "source": [
    "This notebook demonstrates basic usage of the National Renewable Energy Laboratory (NREL) National Solar Radiation Database (NSRDB) data. The data is provided from Amazon Web Services using the HDF Group's Highly Scalable Data Service (HSDS).\n",
    "\n",
    "For this to work you must first install h5pyd:\n",
    "\n",
    "```\n",
    "pip install --user h5pyd\n",
    "```\n",
    "\n",
    "Next you'll need to configure HSDS:\n",
    "\n",
    "```\n",
    "hsconfigure\n",
    "```\n",
    "\n",
    "and enter at the prompt:\n",
    "\n",
    "```\n",
    "hs_endpoint = https://developer.nrel.gov/api/hsds\n",
    "hs_username = None\n",
    "hs_password = None\n",
    "hs_api_key = 3K3JQbjZmWctY0xmIfSYvYgtIcM3CN0cb1Y2w9bf\n",
    "```\n",
    "\n",
    "*The example API key here is for demonstation and is rate-limited per IP. To get your own API key, visit https://developer.nrel.gov/signup/*\n",
    "\n",
    "You can also add the above contents to a configuration file at ~/.hscfg"
   ]
  },
  {
   "cell_type": "code",
   "execution_count": 1,
   "metadata": {
    "ExecuteTime": {
     "end_time": "2019-02-06T19:48:39.175801Z",
     "start_time": "2019-02-06T19:48:39.034304Z"
    }
   },
   "outputs": [],
   "source": [
    "%matplotlib inline\n",
    "import h5pyd\n",
    "import numpy as np\n",
    "import pandas as pd\n",
    "import matplotlib.pyplot as plt\n",
    "import matplotlib.image as mpimg\n",
    "from scipy.spatial import cKDTree"
   ]
  },
  {
   "cell_type": "markdown",
   "metadata": {},
   "source": [
    "## Basic Usage\n",
    "\n",
    "The WIND Toolkit domains are provided in annual .h5 files and currently spans 2007-2014.  \n",
    "Each year can be accessed from `/nrel/wtk/${country}/wtk_${country}_${year}.h5` where `country` is conus, canada, or mexico"
   ]
  },
  {
   "cell_type": "code",
   "execution_count": 2,
   "metadata": {
    "ExecuteTime": {
     "end_time": "2019-02-06T18:32:02.178393Z",
     "start_time": "2019-02-06T18:32:01.822243Z"
    }
   },
   "outputs": [],
   "source": [
    "# Open the desired domain year of data\n",
    "# server endpoint, username, password is found via a config file\n",
    "f = h5pyd.File(\"/nrel/wtk/canada/wtk_canada_2012.h5\", 'r')"
   ]
  },
  {
   "cell_type": "code",
   "execution_count": 3,
   "metadata": {
    "ExecuteTime": {
     "end_time": "2019-02-06T18:32:04.318312Z",
     "start_time": "2019-02-06T18:32:03.824155Z"
    }
   },
   "outputs": [
    {
     "data": {
      "text/plain": [
       "['Version']"
      ]
     },
     "execution_count": 3,
     "metadata": {},
     "output_type": "execute_result"
    }
   ],
   "source": [
    "list(f.attrs)  # list attributes belonging to the root group"
   ]
  },
  {
   "cell_type": "code",
   "execution_count": 4,
   "metadata": {
    "ExecuteTime": {
     "end_time": "2019-02-06T18:32:09.277364Z",
     "start_time": "2019-02-06T18:32:09.032427Z"
    }
   },
   "outputs": [
    {
     "data": {
      "text/plain": [
       "'v1.0.0'"
      ]
     },
     "execution_count": 4,
     "metadata": {},
     "output_type": "execute_result"
    }
   ],
   "source": [
    "f.attrs['Version']   # attributes can be used to provide desriptions of the content"
   ]
  },
  {
   "cell_type": "markdown",
   "metadata": {},
   "source": [
    "## Datasets"
   ]
  },
  {
   "cell_type": "code",
   "execution_count": 5,
   "metadata": {
    "ExecuteTime": {
     "end_time": "2019-02-06T18:33:57.735172Z",
     "start_time": "2019-02-06T18:33:57.373693Z"
    }
   },
   "outputs": [
    {
     "data": {
      "text/plain": [
       "['coordinates',\n",
       " 'inversemoninobukhovlength_2m',\n",
       " 'meta',\n",
       " 'precipitationrate_0m',\n",
       " 'pressure_0m',\n",
       " 'pressure_100m',\n",
       " 'pressure_200m',\n",
       " 'relativehumidity_2m',\n",
       " 'temperature_100m',\n",
       " 'temperature_10m',\n",
       " 'temperature_120m',\n",
       " 'temperature_140m',\n",
       " 'temperature_160m',\n",
       " 'temperature_200m',\n",
       " 'temperature_2m',\n",
       " 'temperature_40m',\n",
       " 'temperature_60m',\n",
       " 'temperature_80m',\n",
       " 'time_index',\n",
       " 'winddirection_100m',\n",
       " 'winddirection_10m',\n",
       " 'winddirection_120m',\n",
       " 'winddirection_140m',\n",
       " 'winddirection_160m',\n",
       " 'winddirection_200m',\n",
       " 'winddirection_40m',\n",
       " 'winddirection_60m',\n",
       " 'winddirection_80m',\n",
       " 'windspeed_100m',\n",
       " 'windspeed_10m',\n",
       " 'windspeed_120m',\n",
       " 'windspeed_140m',\n",
       " 'windspeed_160m',\n",
       " 'windspeed_200m',\n",
       " 'windspeed_40m',\n",
       " 'windspeed_60m',\n",
       " 'windspeed_80m']"
      ]
     },
     "execution_count": 5,
     "metadata": {},
     "output_type": "execute_result"
    }
   ],
   "source": [
    "list(f)  # list the datasets in the file"
   ]
  },
  {
   "cell_type": "code",
   "execution_count": 6,
   "metadata": {
    "ExecuteTime": {
     "end_time": "2019-02-06T18:34:32.751989Z",
     "start_time": "2019-02-06T18:34:32.630250Z"
    }
   },
   "outputs": [
    {
     "data": {
      "text/plain": [
       "(8784, 2894781)"
      ]
     },
     "execution_count": 6,
     "metadata": {},
     "output_type": "execute_result"
    }
   ],
   "source": [
    "# Datasets are stored in a 2d array of time x location\n",
    "dset = f['windspeed_100m']\n",
    "dset.shape"
   ]
  },
  {
   "cell_type": "code",
   "execution_count": 12,
   "metadata": {
    "ExecuteTime": {
     "end_time": "2019-02-06T18:45:17.972025Z",
     "start_time": "2019-02-06T18:45:17.286944Z"
    }
   },
   "outputs": [
    {
     "data": {
      "text/plain": [
       "DatetimeIndex(['2012-01-01 00:00:00', '2012-01-01 01:00:00',\n",
       "               '2012-01-01 02:00:00', '2012-01-01 03:00:00',\n",
       "               '2012-01-01 04:00:00', '2012-01-01 05:00:00',\n",
       "               '2012-01-01 06:00:00', '2012-01-01 07:00:00',\n",
       "               '2012-01-01 08:00:00', '2012-01-01 09:00:00',\n",
       "               ...\n",
       "               '2012-12-31 14:00:00', '2012-12-31 15:00:00',\n",
       "               '2012-12-31 16:00:00', '2012-12-31 17:00:00',\n",
       "               '2012-12-31 18:00:00', '2012-12-31 19:00:00',\n",
       "               '2012-12-31 20:00:00', '2012-12-31 21:00:00',\n",
       "               '2012-12-31 22:00:00', '2012-12-31 23:00:00'],\n",
       "              dtype='datetime64[ns]', length=8784, freq=None)"
      ]
     },
     "execution_count": 12,
     "metadata": {},
     "output_type": "execute_result"
    }
   ],
   "source": [
    "# Extract datetime index for datasets\n",
    "time_index = pd.to_datetime(f['time_index'][...].astype(str))\n",
    "time_index # Temporal resolution is 30min"
   ]
  },
  {
   "cell_type": "code",
   "execution_count": 13,
   "metadata": {
    "ExecuteTime": {
     "end_time": "2019-02-06T18:46:51.882658Z",
     "start_time": "2019-02-06T18:46:06.078162Z"
    }
   },
   "outputs": [
    {
     "data": {
      "text/html": [
       "<div>\n",
       "<style scoped>\n",
       "    .dataframe tbody tr th:only-of-type {\n",
       "        vertical-align: middle;\n",
       "    }\n",
       "\n",
       "    .dataframe tbody tr th {\n",
       "        vertical-align: top;\n",
       "    }\n",
       "\n",
       "    .dataframe thead th {\n",
       "        text-align: right;\n",
       "    }\n",
       "</style>\n",
       "<table border=\"1\" class=\"dataframe\">\n",
       "  <thead>\n",
       "    <tr style=\"text-align: right;\">\n",
       "      <th></th>\n",
       "      <th>latitude</th>\n",
       "      <th>longitude</th>\n",
       "      <th>country</th>\n",
       "      <th>state</th>\n",
       "      <th>county</th>\n",
       "      <th>timezone</th>\n",
       "      <th>elevation</th>\n",
       "      <th>offshore</th>\n",
       "      <th>source</th>\n",
       "    </tr>\n",
       "  </thead>\n",
       "  <tbody>\n",
       "    <tr>\n",
       "      <th>0</th>\n",
       "      <td>48.459221</td>\n",
       "      <td>-130.720367</td>\n",
       "      <td>b'None'</td>\n",
       "      <td>b'None'</td>\n",
       "      <td>b'None'</td>\n",
       "      <td>-9.0</td>\n",
       "      <td>0.0</td>\n",
       "      <td>1</td>\n",
       "      <td>b'WTK_Canada (NARIS)'</td>\n",
       "    </tr>\n",
       "    <tr>\n",
       "      <th>1</th>\n",
       "      <td>48.474941</td>\n",
       "      <td>-130.733322</td>\n",
       "      <td>b'None'</td>\n",
       "      <td>b'None'</td>\n",
       "      <td>b'None'</td>\n",
       "      <td>-9.0</td>\n",
       "      <td>0.0</td>\n",
       "      <td>1</td>\n",
       "      <td>b'WTK_Canada (NARIS)'</td>\n",
       "    </tr>\n",
       "    <tr>\n",
       "      <th>2</th>\n",
       "      <td>48.490665</td>\n",
       "      <td>-130.746277</td>\n",
       "      <td>b'None'</td>\n",
       "      <td>b'None'</td>\n",
       "      <td>b'None'</td>\n",
       "      <td>-9.0</td>\n",
       "      <td>0.0</td>\n",
       "      <td>1</td>\n",
       "      <td>b'WTK_Canada (NARIS)'</td>\n",
       "    </tr>\n",
       "    <tr>\n",
       "      <th>3</th>\n",
       "      <td>48.506378</td>\n",
       "      <td>-130.759247</td>\n",
       "      <td>b'None'</td>\n",
       "      <td>b'None'</td>\n",
       "      <td>b'None'</td>\n",
       "      <td>-9.0</td>\n",
       "      <td>0.0</td>\n",
       "      <td>1</td>\n",
       "      <td>b'WTK_Canada (NARIS)'</td>\n",
       "    </tr>\n",
       "    <tr>\n",
       "      <th>4</th>\n",
       "      <td>48.522099</td>\n",
       "      <td>-130.772232</td>\n",
       "      <td>b'None'</td>\n",
       "      <td>b'None'</td>\n",
       "      <td>b'None'</td>\n",
       "      <td>-9.0</td>\n",
       "      <td>0.0</td>\n",
       "      <td>1</td>\n",
       "      <td>b'WTK_Canada (NARIS)'</td>\n",
       "    </tr>\n",
       "  </tbody>\n",
       "</table>\n",
       "</div>"
      ],
      "text/plain": [
       "    latitude   longitude  country    state   county  timezone  elevation  \\\n",
       "0  48.459221 -130.720367  b'None'  b'None'  b'None'      -9.0        0.0   \n",
       "1  48.474941 -130.733322  b'None'  b'None'  b'None'      -9.0        0.0   \n",
       "2  48.490665 -130.746277  b'None'  b'None'  b'None'      -9.0        0.0   \n",
       "3  48.506378 -130.759247  b'None'  b'None'  b'None'      -9.0        0.0   \n",
       "4  48.522099 -130.772232  b'None'  b'None'  b'None'      -9.0        0.0   \n",
       "\n",
       "   offshore                 source  \n",
       "0         1  b'WTK_Canada (NARIS)'  \n",
       "1         1  b'WTK_Canada (NARIS)'  \n",
       "2         1  b'WTK_Canada (NARIS)'  \n",
       "3         1  b'WTK_Canada (NARIS)'  \n",
       "4         1  b'WTK_Canada (NARIS)'  "
      ]
     },
     "execution_count": 13,
     "metadata": {},
     "output_type": "execute_result"
    }
   ],
   "source": [
    "# Locational information is stored in either 'meta' or 'coordinates'\n",
    "meta = pd.DataFrame(f['meta'][...])\n",
    "meta.head()"
   ]
  },
  {
   "cell_type": "code",
   "execution_count": 14,
   "metadata": {
    "ExecuteTime": {
     "end_time": "2019-02-06T18:47:46.899747Z",
     "start_time": "2019-02-06T18:47:46.896662Z"
    }
   },
   "outputs": [
    {
     "data": {
      "text/plain": [
       "dtype('uint16')"
      ]
     },
     "execution_count": 14,
     "metadata": {},
     "output_type": "execute_result"
    }
   ],
   "source": [
    "# Datasets have been saved as integers\n",
    "dset.dtype"
   ]
  },
  {
   "cell_type": "code",
   "execution_count": 15,
   "metadata": {
    "ExecuteTime": {
     "end_time": "2019-02-06T18:47:51.066179Z",
     "start_time": "2019-02-06T18:47:51.062426Z"
    }
   },
   "outputs": [
    {
     "data": {
      "text/plain": [
       "50.855512608000005"
      ]
     },
     "execution_count": 15,
     "metadata": {},
     "output_type": "execute_result"
    }
   ],
   "source": [
    "dset.shape[0] * dset.shape[1] * 2 * 10**-9 # 51 GB per dataset!"
   ]
  },
  {
   "cell_type": "code",
   "execution_count": 20,
   "metadata": {
    "ExecuteTime": {
     "end_time": "2019-02-06T18:47:57.377851Z",
     "start_time": "2019-02-06T18:47:57.374273Z"
    }
   },
   "outputs": [
    {
     "data": {
      "text/plain": [
       "[1344, 744]"
      ]
     },
     "execution_count": 20,
     "metadata": {},
     "output_type": "execute_result"
    }
   ],
   "source": [
    "dset.chunks['dims'] # Chunked by week"
   ]
  },
  {
   "cell_type": "code",
   "execution_count": 21,
   "metadata": {
    "ExecuteTime": {
     "end_time": "2019-02-06T18:47:58.010112Z",
     "start_time": "2019-02-06T18:47:58.005677Z"
    }
   },
   "outputs": [
    {
     "data": {
      "text/plain": [
       "1.9998719999999999"
      ]
     },
     "execution_count": 21,
     "metadata": {},
     "output_type": "execute_result"
    }
   ],
   "source": [
    "dset.chunks['dims'][0] * dset.chunks['dims'][1] * 2 * 10**-6 # 2 MB per chunk"
   ]
  },
  {
   "cell_type": "code",
   "execution_count": 22,
   "metadata": {
    "ExecuteTime": {
     "end_time": "2019-02-06T18:49:17.786073Z",
     "start_time": "2019-02-06T18:49:17.671184Z"
    }
   },
   "outputs": [
    {
     "data": {
      "text/plain": [
       "100.0"
      ]
     },
     "execution_count": 22,
     "metadata": {},
     "output_type": "execute_result"
    }
   ],
   "source": [
    "# To convert dataset values back to floats use the 'scale_factor'\n",
    "dset.attrs['scale_factor']"
   ]
  },
  {
   "cell_type": "code",
   "execution_count": 23,
   "metadata": {
    "ExecuteTime": {
     "end_time": "2019-02-06T18:52:13.089310Z",
     "start_time": "2019-02-06T18:52:12.342907Z"
    }
   },
   "outputs": [
    {
     "name": "stdout",
     "output_type": "stream",
     "text": [
      "wind speed scale factor =  100.0\n",
      "wind speed units after unscaling =  m s-1\n"
     ]
    },
    {
     "data": {
      "text/plain": [
       "21.84"
      ]
     },
     "execution_count": 23,
     "metadata": {},
     "output_type": "execute_result"
    }
   ],
   "source": [
    "scale_factor = f['windspeed_100m'].attrs['scale_factor']\n",
    "units = f['windspeed_100m'].attrs['units']\n",
    "print('wind speed scale factor = ', scale_factor)\n",
    "print('wind speed units after unscaling = ', units)\n",
    "f['windspeed_100m'][0, 0] / scale_factor # divide by scale_factor to return native value"
   ]
  },
  {
   "cell_type": "markdown",
   "metadata": {},
   "source": [
    "## Time-slicing"
   ]
  },
  {
   "cell_type": "markdown",
   "metadata": {},
   "source": [
    "Get the time_index from the server and convert to a pandas DatetimeIndex for convenience:"
   ]
  },
  {
   "cell_type": "code",
   "execution_count": 9,
   "metadata": {
    "ExecuteTime": {
     "end_time": "2019-02-06T18:57:48.925869Z",
     "start_time": "2019-02-06T18:57:47.990623Z"
    }
   },
   "outputs": [
    {
     "data": {
      "text/plain": [
       "DatetimeIndex(['2012-01-01 00:00:00', '2012-01-01 01:00:00',\n",
       "               '2012-01-01 02:00:00', '2012-01-01 03:00:00',\n",
       "               '2012-01-01 04:00:00', '2012-01-01 05:00:00',\n",
       "               '2012-01-01 06:00:00', '2012-01-01 07:00:00',\n",
       "               '2012-01-01 08:00:00', '2012-01-01 09:00:00',\n",
       "               ...\n",
       "               '2012-12-31 14:00:00', '2012-12-31 15:00:00',\n",
       "               '2012-12-31 16:00:00', '2012-12-31 17:00:00',\n",
       "               '2012-12-31 18:00:00', '2012-12-31 19:00:00',\n",
       "               '2012-12-31 20:00:00', '2012-12-31 21:00:00',\n",
       "               '2012-12-31 22:00:00', '2012-12-31 23:00:00'],\n",
       "              dtype='datetime64[ns]', length=8784, freq=None)"
      ]
     },
     "execution_count": 9,
     "metadata": {},
     "output_type": "execute_result"
    }
   ],
   "source": [
    "time_index = pd.to_datetime(f['time_index'][...].astype(str))\n",
    "time_index"
   ]
  },
  {
   "cell_type": "markdown",
   "metadata": {},
   "source": [
    "Extract indexes for a particular span of time:"
   ]
  },
  {
   "cell_type": "code",
   "execution_count": 10,
   "metadata": {
    "ExecuteTime": {
     "end_time": "2019-02-06T19:00:14.646068Z",
     "start_time": "2019-02-06T19:00:14.641059Z"
    }
   },
   "outputs": [
    {
     "data": {
      "text/plain": [
       "array([1440, 1441, 1442, 1443, 1444, 1445, 1446, 1447, 1448, 1449, 1450,\n",
       "       1451, 1452, 1453, 1454, 1455, 1456, 1457, 1458, 1459, 1460, 1461,\n",
       "       1462, 1463, 1464, 1465, 1466, 1467, 1468, 1469, 1470, 1471, 1472,\n",
       "       1473, 1474, 1475, 1476, 1477, 1478, 1479, 1480, 1481, 1482, 1483,\n",
       "       1484, 1485, 1486, 1487, 1488, 1489, 1490, 1491, 1492, 1493, 1494,\n",
       "       1495, 1496, 1497, 1498, 1499, 1500, 1501, 1502, 1503, 1504, 1505,\n",
       "       1506, 1507, 1508, 1509, 1510, 1511, 1512, 1513, 1514, 1515, 1516,\n",
       "       1517, 1518, 1519, 1520, 1521, 1522, 1523, 1524, 1525, 1526, 1527,\n",
       "       1528, 1529, 1530, 1531, 1532, 1533, 1534, 1535, 1536, 1537, 1538,\n",
       "       1539, 1540, 1541, 1542, 1543, 1544, 1545, 1546, 1547, 1548, 1549,\n",
       "       1550, 1551, 1552, 1553, 1554, 1555, 1556, 1557, 1558, 1559, 1560,\n",
       "       1561, 1562, 1563, 1564, 1565, 1566, 1567, 1568, 1569, 1570, 1571,\n",
       "       1572, 1573, 1574, 1575, 1576, 1577, 1578, 1579, 1580, 1581, 1582,\n",
       "       1583, 1584, 1585, 1586, 1587, 1588, 1589, 1590, 1591, 1592, 1593,\n",
       "       1594, 1595, 1596, 1597, 1598, 1599, 1600, 1601, 1602, 1603, 1604,\n",
       "       1605, 1606, 1607, 1608, 1609, 1610, 1611, 1612, 1613, 1614, 1615,\n",
       "       1616, 1617, 1618, 1619, 1620, 1621, 1622, 1623, 1624, 1625, 1626,\n",
       "       1627, 1628, 1629, 1630, 1631, 1632, 1633, 1634, 1635, 1636, 1637,\n",
       "       1638, 1639, 1640, 1641, 1642, 1643, 1644, 1645, 1646, 1647, 1648,\n",
       "       1649, 1650, 1651, 1652, 1653, 1654, 1655, 1656, 1657, 1658, 1659,\n",
       "       1660, 1661, 1662, 1663, 1664, 1665, 1666, 1667, 1668, 1669, 1670,\n",
       "       1671, 1672, 1673, 1674, 1675, 1676, 1677, 1678, 1679, 1680, 1681,\n",
       "       1682, 1683, 1684, 1685, 1686, 1687, 1688, 1689, 1690, 1691, 1692,\n",
       "       1693, 1694, 1695, 1696, 1697, 1698, 1699, 1700, 1701, 1702, 1703,\n",
       "       1704, 1705, 1706, 1707, 1708, 1709, 1710, 1711, 1712, 1713, 1714,\n",
       "       1715, 1716, 1717, 1718, 1719, 1720, 1721, 1722, 1723, 1724, 1725,\n",
       "       1726, 1727, 1728, 1729, 1730, 1731, 1732, 1733, 1734, 1735, 1736,\n",
       "       1737, 1738, 1739, 1740, 1741, 1742, 1743, 1744, 1745, 1746, 1747,\n",
       "       1748, 1749, 1750, 1751, 1752, 1753, 1754, 1755, 1756, 1757, 1758,\n",
       "       1759, 1760, 1761, 1762, 1763, 1764, 1765, 1766, 1767, 1768, 1769,\n",
       "       1770, 1771, 1772, 1773, 1774, 1775, 1776, 1777, 1778, 1779, 1780,\n",
       "       1781, 1782, 1783, 1784, 1785, 1786, 1787, 1788, 1789, 1790, 1791,\n",
       "       1792, 1793, 1794, 1795, 1796, 1797, 1798, 1799, 1800, 1801, 1802,\n",
       "       1803, 1804, 1805, 1806, 1807, 1808, 1809, 1810, 1811, 1812, 1813,\n",
       "       1814, 1815, 1816, 1817, 1818, 1819, 1820, 1821, 1822, 1823, 1824,\n",
       "       1825, 1826, 1827, 1828, 1829, 1830, 1831, 1832, 1833, 1834, 1835,\n",
       "       1836, 1837, 1838, 1839, 1840, 1841, 1842, 1843, 1844, 1845, 1846,\n",
       "       1847, 1848, 1849, 1850, 1851, 1852, 1853, 1854, 1855, 1856, 1857,\n",
       "       1858, 1859, 1860, 1861, 1862, 1863, 1864, 1865, 1866, 1867, 1868,\n",
       "       1869, 1870, 1871, 1872, 1873, 1874, 1875, 1876, 1877, 1878, 1879,\n",
       "       1880, 1881, 1882, 1883, 1884, 1885, 1886, 1887, 1888, 1889, 1890,\n",
       "       1891, 1892, 1893, 1894, 1895, 1896, 1897, 1898, 1899, 1900, 1901,\n",
       "       1902, 1903, 1904, 1905, 1906, 1907, 1908, 1909, 1910, 1911, 1912,\n",
       "       1913, 1914, 1915, 1916, 1917, 1918, 1919, 1920, 1921, 1922, 1923,\n",
       "       1924, 1925, 1926, 1927, 1928, 1929, 1930, 1931, 1932, 1933, 1934,\n",
       "       1935, 1936, 1937, 1938, 1939, 1940, 1941, 1942, 1943, 1944, 1945,\n",
       "       1946, 1947, 1948, 1949, 1950, 1951, 1952, 1953, 1954, 1955, 1956,\n",
       "       1957, 1958, 1959, 1960, 1961, 1962, 1963, 1964, 1965, 1966, 1967,\n",
       "       1968, 1969, 1970, 1971, 1972, 1973, 1974, 1975, 1976, 1977, 1978,\n",
       "       1979, 1980, 1981, 1982, 1983, 1984, 1985, 1986, 1987, 1988, 1989,\n",
       "       1990, 1991, 1992, 1993, 1994, 1995, 1996, 1997, 1998, 1999, 2000,\n",
       "       2001, 2002, 2003, 2004, 2005, 2006, 2007, 2008, 2009, 2010, 2011,\n",
       "       2012, 2013, 2014, 2015, 2016, 2017, 2018, 2019, 2020, 2021, 2022,\n",
       "       2023, 2024, 2025, 2026, 2027, 2028, 2029, 2030, 2031, 2032, 2033,\n",
       "       2034, 2035, 2036, 2037, 2038, 2039, 2040, 2041, 2042, 2043, 2044,\n",
       "       2045, 2046, 2047, 2048, 2049, 2050, 2051, 2052, 2053, 2054, 2055,\n",
       "       2056, 2057, 2058, 2059, 2060, 2061, 2062, 2063, 2064, 2065, 2066,\n",
       "       2067, 2068, 2069, 2070, 2071, 2072, 2073, 2074, 2075, 2076, 2077,\n",
       "       2078, 2079, 2080, 2081, 2082, 2083, 2084, 2085, 2086, 2087, 2088,\n",
       "       2089, 2090, 2091, 2092, 2093, 2094, 2095, 2096, 2097, 2098, 2099,\n",
       "       2100, 2101, 2102, 2103, 2104, 2105, 2106, 2107, 2108, 2109, 2110,\n",
       "       2111, 2112, 2113, 2114, 2115, 2116, 2117, 2118, 2119, 2120, 2121,\n",
       "       2122, 2123, 2124, 2125, 2126, 2127, 2128, 2129, 2130, 2131, 2132,\n",
       "       2133, 2134, 2135, 2136, 2137, 2138, 2139, 2140, 2141, 2142, 2143,\n",
       "       2144, 2145, 2146, 2147, 2148, 2149, 2150, 2151, 2152, 2153, 2154,\n",
       "       2155, 2156, 2157, 2158, 2159, 2160, 2161, 2162, 2163, 2164, 2165,\n",
       "       2166, 2167, 2168, 2169, 2170, 2171, 2172, 2173, 2174, 2175, 2176,\n",
       "       2177, 2178, 2179, 2180, 2181, 2182, 2183])"
      ]
     },
     "execution_count": 10,
     "metadata": {},
     "output_type": "execute_result"
    }
   ],
   "source": [
    "march = time_index.month == 3\n",
    "np.where(march)[0]"
   ]
  },
  {
   "cell_type": "markdown",
   "metadata": {},
   "source": [
    "Or a particular date:"
   ]
  },
  {
   "cell_type": "code",
   "execution_count": 11,
   "metadata": {
    "ExecuteTime": {
     "end_time": "2019-02-06T19:16:18.978254Z",
     "start_time": "2019-02-06T19:16:18.973874Z"
    }
   },
   "outputs": [
    {
     "data": {
      "text/plain": [
       "4440"
      ]
     },
     "execution_count": 11,
     "metadata": {},
     "output_type": "execute_result"
    }
   ],
   "source": [
    "timestep = np.where(time_index == '2012-07-04 00:00:00')[0][0]\n",
    "timestep"
   ]
  },
  {
   "cell_type": "markdown",
   "metadata": {},
   "source": [
    "## Map Data"
   ]
  },
  {
   "cell_type": "code",
   "execution_count": 7,
   "metadata": {
    "ExecuteTime": {
     "end_time": "2019-02-06T19:16:28.086246Z",
     "start_time": "2019-02-06T19:16:24.814153Z"
    }
   },
   "outputs": [
    {
     "name": "stdout",
     "output_type": "stream",
     "text": [
      "{'description': '(latitude, longitude)'}\n"
     ]
    }
   ],
   "source": [
    "# Extract coordinates (lat, lon)\n",
    "print(dict(f['coordinates'].attrs))\n",
    "coords = f['coordinates'][...]"
   ]
  },
  {
   "cell_type": "code",
   "execution_count": null,
   "metadata": {
    "ExecuteTime": {
     "end_time": "2019-02-06T19:30:40.930339Z",
     "start_time": "2019-02-06T19:30:37.902430Z"
    }
   },
   "outputs": [],
   "source": [
    "dset = f['windspeed_100m']\n",
    "%time data = dset[timestep, ::100]   # extract every 100th location at a particular time\n",
    "df = pd.DataFrame() # Combine data with coordinates in a DataFrame\n",
    "df['longitude'] = coords[::100, 1]\n",
    "df['latitude'] = coords[::100, 0]\n",
    "df['windspeed_100m'] = data / dset.attrs['scale_factor'] # unscale dataset"
   ]
  },
  {
   "cell_type": "code",
   "execution_count": null,
   "metadata": {
    "ExecuteTime": {
     "end_time": "2019-02-06T19:30:40.935891Z",
     "start_time": "2019-02-06T19:30:40.932229Z"
    }
   },
   "outputs": [],
   "source": [
    "df.shape"
   ]
  },
  {
   "cell_type": "code",
   "execution_count": null,
   "metadata": {
    "ExecuteTime": {
     "end_time": "2019-02-06T19:30:50.703645Z",
     "start_time": "2019-02-06T19:30:44.870411Z"
    }
   },
   "outputs": [],
   "source": [
    "df.plot.scatter(x='longitude', y='latitude', c='wspd',\n",
    "                colormap='BuYlGr',\n",
    "                title=str(time_index[timestep]))\n",
    "plt.show()"
   ]
  },
  {
   "cell_type": "code",
   "execution_count": null,
   "metadata": {},
   "outputs": [],
   "source": [
    "meta = pd.DataFrame(f['meta'][...])\n",
    "meta['state'].unique()"
   ]
  },
  {
   "cell_type": "code",
   "execution_count": null,
   "metadata": {
    "ExecuteTime": {
     "end_time": "2019-02-06T19:38:03.467178Z",
     "start_time": "2019-02-06T19:38:03.343285Z"
    }
   },
   "outputs": [],
   "source": [
    "# Full resolution subset of Colorado\n",
    "meta = pd.DataFrame(f['meta'][...])\n",
    "CA = meta.loc[meta['state'] == b'California'] # Note .h5 saves strings as bit-strings\n",
    "CA.head()"
   ]
  },
  {
   "cell_type": "code",
   "execution_count": null,
   "metadata": {
    "ExecuteTime": {
     "end_time": "2019-02-06T19:38:14.050394Z",
     "start_time": "2019-02-06T19:38:09.966272Z"
    }
   },
   "outputs": [],
   "source": [
    "%time data = dset[timestep][CA.index]  # full-resolution subset\n",
    "df = CA[['longitude', 'latitude']].copy()\n",
    "df['windspeed_100m'] = data / dset.attrs['scale_factor']\n",
    "df.shape"
   ]
  },
  {
   "cell_type": "code",
   "execution_count": null,
   "metadata": {
    "ExecuteTime": {
     "end_time": "2019-02-06T19:38:16.260753Z",
     "start_time": "2019-02-06T19:38:15.367784Z"
    }
   },
   "outputs": [],
   "source": [
    "df.plot.scatter(x='longitude', y='latitude', c='wspd',\n",
    "                colormap='BuYlGr',\n",
    "                title=str(time_index[timestep]))\n",
    "plt.show()"
   ]
  },
  {
   "cell_type": "markdown",
   "metadata": {},
   "source": [
    "## Nearest Timeseries for given Lat/Lon"
   ]
  },
  {
   "cell_type": "code",
   "execution_count": null,
   "metadata": {
    "ExecuteTime": {
     "end_time": "2019-02-06T19:52:44.346725Z",
     "start_time": "2019-02-06T19:52:34.038821Z"
    }
   },
   "outputs": [],
   "source": [
    "# Unlike the gridded WTK data the NSRDB is provided as sparse time-series dataset.\n",
    "# The quickest way to find the nearest site it using a KDtree\n",
    "\n",
    "dset_coords = f['coordinates'][...]\n",
    "tree = cKDTree(dset_coords)\n",
    "def nearest_site(tree, lat_coord, lon_coord):\n",
    "    lat_lon = np.array([lat_coord, lon_coord])\n",
    "    dist, pos = tree.query(lat_lon)\n",
    "    return pos\n",
    "\n",
    "NewYorkCity = (40.7128, -74.0059)\n",
    "NewYorkCity_idx = nearest_site(tree, NewYorkCity[0], NewYorkCity[1] )\n",
    "\n",
    "print(\"Site index for New York City: \\t\\t {}\".format(NewYorkCity_idx))\n",
    "print(\"Coordinates of New York City: \\t {}\".format(NewYorkCity))\n",
    "print(\"Coordinates of nearest point: \\t {}\".format(dset_coords[NewYorkCity_idx]))"
   ]
  },
  {
   "cell_type": "code",
   "execution_count": null,
   "metadata": {
    "ExecuteTime": {
     "end_time": "2019-02-06T19:53:48.160502Z",
     "start_time": "2019-02-06T19:53:46.607119Z"
    }
   },
   "outputs": [],
   "source": [
    "# Get the entire 2012 timeseries data for a point in NYC\n",
    "%time tseries = dset[:, NewYorkCity_idx] / dset.attrs['scale_factor']"
   ]
  },
  {
   "cell_type": "code",
   "execution_count": null,
   "metadata": {
    "ExecuteTime": {
     "end_time": "2019-02-06T19:53:48.165562Z",
     "start_time": "2019-02-06T19:53:48.162324Z"
    }
   },
   "outputs": [],
   "source": [
    "len(tseries)   # 1 years * 365 days * 24 hours * 30 minutes"
   ]
  },
  {
   "cell_type": "code",
   "execution_count": null,
   "metadata": {
    "ExecuteTime": {
     "end_time": "2019-02-06T19:54:20.235635Z",
     "start_time": "2019-02-06T19:54:20.063966Z"
    }
   },
   "outputs": [],
   "source": [
    "plt.plot(time_index, tseries)\n",
    "plt.ylabel(\"wspd\")\n",
    "plt.title(\"NYC ghi in 2012\")"
   ]
  },
  {
   "cell_type": "markdown",
   "metadata": {},
   "source": [
    "## GHI Statistics"
   ]
  },
  {
   "cell_type": "code",
   "execution_count": null,
   "metadata": {
    "ExecuteTime": {
     "end_time": "2019-02-06T19:58:14.770799Z",
     "start_time": "2019-02-06T19:58:14.726103Z"
    }
   },
   "outputs": [],
   "source": [
    "df = pd.DataFrame({'wspd': tseries}, index=time_index)\n",
    "df[\"year\"] = df.index.year\n",
    "df[\"month\"] = df.index.month\n",
    "df[\"day\"] = df.index.day\n",
    "df[\"hour\"] = df.index.hour\n",
    "\n",
    "agg = df.groupby([\"month\",\"hour\"]).mean()\n",
    "agg = agg.reset_index().pivot(index=\"month\",columns=\"hour\",values=\"wspd\")\n",
    "agg"
   ]
  },
  {
   "cell_type": "code",
   "execution_count": null,
   "metadata": {
    "ExecuteTime": {
     "end_time": "2019-02-06T19:58:30.404312Z",
     "start_time": "2019-02-06T19:58:30.214762Z"
    }
   },
   "outputs": [],
   "source": [
    "plt.imshow(agg)\n",
    "plt.xlabel(\"Hour\")\n",
    "plt.ylabel(\"Month\")\n",
    "plt.title(\"12 x 24 Mean Wind Speed (m/s)\")\n",
    "plt.colorbar()"
   ]
  },
  {
   "cell_type": "code",
   "execution_count": null,
   "metadata": {},
   "outputs": [],
   "source": []
  }
 ],
 "metadata": {
  "kernelspec": {
   "display_name": "Python 3.7.7 64-bit ('hsds': conda)",
   "language": "python",
   "name": "python37764bithsdsconda57eaedbd0ba54729a981bec2a96a3c11"
  },
  "language_info": {
   "codemirror_mode": {
    "name": "ipython",
    "version": 3
   },
   "file_extension": ".py",
   "mimetype": "text/x-python",
   "name": "python",
   "nbconvert_exporter": "python",
   "pygments_lexer": "ipython3",
   "version": "3.7.7"
  }
 },
 "nbformat": 4,
 "nbformat_minor": 1
}