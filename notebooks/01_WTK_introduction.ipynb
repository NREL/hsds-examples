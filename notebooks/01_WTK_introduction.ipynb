{
 "cells": [
  {
   "cell_type": "markdown",
   "metadata": {},
   "source": [
    "## NREL WIND Toolkit - HSDS Demo"
   ]
  },
  {
   "cell_type": "markdown",
   "metadata": {},
   "source": [
    "This notebook demonstrates basic usage of the National Renewable Energy Laboratory (NREL) Wind Integration National Dataset (WIND) Toolkit data. The data is provided from Amazon Web Services using the HDF Group's Highly Scalable Data Service (HSDS).  \n",
    "Please consult the README file for setup instructions prior to running this notebook.\n"
   ]
  },
  {
   "cell_type": "code",
   "execution_count": null,
   "metadata": {
    "ExecuteTime": {
     "end_time": "2019-02-06T19:35:08.121508Z",
     "start_time": "2019-02-06T19:35:08.110735Z"
    }
   },
   "outputs": [],
   "source": [
    "%matplotlib inline\n",
    "import h5pyd\n",
    "import numpy as np\n",
    "import pandas as pd\n",
    "import matplotlib.pyplot as plt\n",
    "import matplotlib.image as mpimg\n",
    "from pyproj import Proj\n",
    "import dateutil"
   ]
  },
  {
   "cell_type": "markdown",
   "metadata": {},
   "source": [
    "## Basic Usage"
   ]
  },
  {
   "cell_type": "code",
   "execution_count": null,
   "metadata": {
    "ExecuteTime": {
     "end_time": "2019-02-06T19:34:42.961949Z",
     "start_time": "2019-02-06T19:34:42.523823Z"
    }
   },
   "outputs": [],
   "source": [
    "# Open the wind data \"file\"\n",
    "# server endpoint, username, password is found via a config file\n",
    "f = h5pyd.File(\"/nrel/wtk-us.h5\")  "
   ]
  },
  {
   "cell_type": "code",
   "execution_count": null,
   "metadata": {},
   "outputs": [],
   "source": [
    "list(f.attrs)  # list attributes belonging to the root group"
   ]
  },
  {
   "cell_type": "code",
   "execution_count": 5,
   "metadata": {},
   "outputs": [
    {
     "data": {
      "text/plain": [
       "'Produced by 3TIER, Inc. under NREL subcontract AGV-2-22460-01'"
      ]
     },
     "execution_count": 5,
     "metadata": {},
     "output_type": "execute_result"
    }
   ],
   "source": [
    "f.attrs['history']   # attributes can be used to provide desriptions of the content"
   ]
  },
  {
   "cell_type": "markdown",
   "metadata": {},
   "source": [
    "## Datasets"
   ]
  },
  {
   "cell_type": "code",
   "execution_count": null,
   "metadata": {
    "ExecuteTime": {
     "end_time": "2019-02-06T19:35:16.400323Z",
     "start_time": "2019-02-06T19:35:16.047073Z"
    }
   },
   "outputs": [],
   "source": [
    "# list the datasets in the file\n",
    "for k in f:\n",
    "    dset = f[k]\n",
    "    print(f\"{dset.name} {dset.shape}\")"
   ]
  },
  {
   "cell_type": "code",
   "execution_count": null,
   "metadata": {
    "ExecuteTime": {
     "end_time": "2019-02-06T19:35:20.141184Z",
     "start_time": "2019-02-06T19:35:20.022275Z"
    }
   },
   "outputs": [],
   "source": [
    "# get reference to windspeed_100m dataset\n",
    "dset = f['windspeed_100m']\n",
    "dset.shape"
   ]
  },
  {
   "cell_type": "code",
   "execution_count": null,
   "metadata": {},
   "outputs": [],
   "source": [
    "dset.dtype"
   ]
  },
  {
   "cell_type": "code",
   "execution_count": null,
   "metadata": {
    "ExecuteTime": {
     "end_time": "2019-02-06T19:35:21.402281Z",
     "start_time": "2019-02-06T19:35:21.398266Z"
    }
   },
   "outputs": [],
   "source": [
    "dset.shape[0] * dset.shape[1] * dset.shape[2] * 4 * 10**-12  # aprox 1 TB per dataset!"
   ]
  },
  {
   "cell_type": "code",
   "execution_count": null,
   "metadata": {},
   "outputs": [],
   "source": [
    "# the chunks property show how the dataset values are internally stored - in tiles of this shape\n",
    "dset.chunks"
   ]
  },
  {
   "cell_type": "code",
   "execution_count": null,
   "metadata": {
    "ExecuteTime": {
     "end_time": "2019-02-06T19:35:23.587827Z",
     "start_time": "2019-02-06T19:35:23.584312Z"
    }
   },
   "outputs": [],
   "source": [
    "# approx 1.5 MB per chunk\n",
    "dset.chunks[0] * dset.chunks[1] * dset.chunks[2] * 4 * 10**-6 "
   ]
  },
  {
   "cell_type": "markdown",
   "metadata": {},
   "source": [
    "## Time-slicing"
   ]
  },
  {
   "cell_type": "markdown",
   "metadata": {},
   "source": [
    "Get the datetime index from the server and convert to a pandas dataframe for convenience:"
   ]
  },
  {
   "cell_type": "code",
   "execution_count": null,
   "metadata": {},
   "outputs": [],
   "source": [
    "dt = f[\"datetime\"]\n",
    "dt = pd.DataFrame({\"datetime\": dt[:]},index=range(0,dt.shape[0]))\n",
    "dt['datetime'] = dt['datetime'].apply(dateutil.parser.parse)\n",
    "dt.head()"
   ]
  },
  {
   "cell_type": "markdown",
   "metadata": {},
   "source": [
    "Extract indexes for a particular span of time:"
   ]
  },
  {
   "cell_type": "code",
   "execution_count": null,
   "metadata": {},
   "outputs": [],
   "source": [
    "twentyten = dt.loc[(dt.datetime >= '2010-01-01') & (dt.datetime < '2011-01-01')].index\n",
    "twentyten"
   ]
  },
  {
   "cell_type": "markdown",
   "metadata": {},
   "source": [
    "Or a particular date:"
   ]
  },
  {
   "cell_type": "code",
   "execution_count": null,
   "metadata": {},
   "outputs": [],
   "source": [
    "timestep = dt.loc[dt.datetime == '2012-04-01 12:00:00'].index[0]\n",
    "timestep"
   ]
  },
  {
   "cell_type": "markdown",
   "metadata": {},
   "source": [
    "## Map Data"
   ]
  },
  {
   "cell_type": "code",
   "execution_count": null,
   "metadata": {},
   "outputs": [],
   "source": [
    "%time data = dset[timestep,::8,::8]   # extract every 8th record at a particular time"
   ]
  },
  {
   "cell_type": "code",
   "execution_count": null,
   "metadata": {},
   "outputs": [],
   "source": [
    "plt.title(str(dt.loc[timestep,\"datetime\"]))\n",
    "plt.imshow(data, origin=\"lower\")"
   ]
  },
  {
   "cell_type": "code",
   "execution_count": null,
   "metadata": {},
   "outputs": [],
   "source": [
    "%time data = dset[timestep,1100:1400,2000:2400]  # full-resolution subset"
   ]
  },
  {
   "cell_type": "code",
   "execution_count": null,
   "metadata": {},
   "outputs": [],
   "source": [
    "plt.imshow(data, origin=\"lower\")"
   ]
  },
  {
   "cell_type": "markdown",
   "metadata": {},
   "source": [
    "## Nearest Timeseries for given Lat/Lon"
   ]
  },
  {
   "cell_type": "code",
   "execution_count": null,
   "metadata": {},
   "outputs": [],
   "source": [
    "# This function finds the nearest x/y indices for a given lat/lon.\n",
    "# Rather than fetching the entire coordinates database, which is 500+ MB, this\n",
    "# uses the Proj4 library to find a nearby point and then converts to x/y indices\n",
    "def indicesForCoord(f, lat_index, lon_index):\n",
    "    dset_coords = f['coordinates']\n",
    "    projstring = \"\"\"+proj=lcc +lat_1=30 +lat_2=60 \n",
    "                    +lat_0=38.47240422490422 +lon_0=-96.0 \n",
    "                    +x_0=0 +y_0=0 +ellps=sphere \n",
    "                    +units=m +no_defs \"\"\"\n",
    "    projectLcc = Proj(projstring)\n",
    "    origin_ll = reversed(dset_coords[0][0])  # Grab origin directly from database\n",
    "    origin = projectLcc(*origin_ll)\n",
    "    \n",
    "    coords = (lon_index,lat_index)\n",
    "    coords = projectLcc(*coords)\n",
    "    delta = np.subtract(coords, origin)\n",
    "    ij = [int(round(x/2000)) for x in delta]\n",
    "    return tuple(reversed(ij))\n",
    "\n",
    "NewYorkCity = (40.7128, -74.0059)\n",
    "NewYorkCity_idx = indicesForCoord( f, NewYorkCity[0], NewYorkCity[1] )\n",
    "\n",
    "print(\"y,x indices for New York City: \\t\\t {}\".format(NewYorkCity_idx))\n",
    "print(\"Coordinates of New York City: \\t {}\".format(NewYorkCity))\n",
    "print(\"Coordinates of nearest point: \\t {}\".format(f[\"coordinates\"][NewYorkCity_idx[0]][NewYorkCity_idx[1]]))"
   ]
  },
  {
   "cell_type": "code",
   "execution_count": null,
   "metadata": {},
   "outputs": [],
   "source": [
    "# Get the entire 2010 timeseries data for a point in NYC\n",
    "%time tseries = dset[min(twentyten):max(twentyten)+1, NewYorkCity_idx[0], NewYorkCity_idx[1]]"
   ]
  },
  {
   "cell_type": "code",
   "execution_count": null,
   "metadata": {},
   "outputs": [],
   "source": [
    "len(tseries)   # 1 years * 365 days * 24 hours "
   ]
  },
  {
   "cell_type": "code",
   "execution_count": null,
   "metadata": {},
   "outputs": [],
   "source": [
    "plt.plot(dt.iloc[twentyten,].datetime, tseries)\n",
    "plt.ylabel(\"Windspeed at 100m (m/s)\")\n",
    "plt.title(\"NYC Windspeed in 2010\")"
   ]
  },
  {
   "cell_type": "code",
   "execution_count": null,
   "metadata": {},
   "outputs": [],
   "source": [
    "# Fetch full timeseries data for all seven years\n",
    "LongsPeak_idx = indicesForCoord(f, 40.2549, -105.6160)\n",
    "%time tseries = dset[:,LongsPeak_idx[0],LongsPeak_idx[1]]"
   ]
  },
  {
   "cell_type": "code",
   "execution_count": null,
   "metadata": {},
   "outputs": [],
   "source": [
    "plt.plot(dt.datetime, tseries)\n",
    "plt.ylabel(\"Windspeed at 100m (m/s)\")\n",
    "plt.title(\"Longs Peak Windspeed 2007-2013\")"
   ]
  },
  {
   "cell_type": "markdown",
   "metadata": {},
   "source": [
    "## Windspeed Statistics"
   ]
  },
  {
   "cell_type": "code",
   "execution_count": null,
   "metadata": {
    "tags": []
   },
   "outputs": [],
   "source": [
    "dt[\"windspeed\"] = tseries\n",
    "dt[\"year\"] = dt[\"datetime\"].apply(lambda x: x.year)\n",
    "dt[\"month\"] = dt[\"datetime\"].apply(lambda x: x.month)\n",
    "dt[\"day\"] = dt[\"datetime\"].apply(lambda x: x.day)\n",
    "dt[\"hour\"] = dt[\"datetime\"].apply(lambda x: x.hour)"
   ]
  },
  {
   "cell_type": "code",
   "execution_count": null,
   "metadata": {},
   "outputs": [],
   "source": [
    "agg = dt.groupby([\"month\",\"hour\"]).mean()\n",
    "agg = agg.reset_index().pivot(index=\"month\",columns=\"hour\",values=\"windspeed\")\n",
    "agg"
   ]
  },
  {
   "cell_type": "code",
   "execution_count": null,
   "metadata": {},
   "outputs": [],
   "source": [
    "plt.imshow(agg)\n",
    "plt.xlabel(\"Hour\")\n",
    "plt.ylabel(\"Month\")\n",
    "plt.title(\"12 x 24 Mean Windspeed (m/s)\")\n",
    "plt.colorbar()"
   ]
  },
  {
   "cell_type": "code",
   "execution_count": null,
   "metadata": {},
   "outputs": [],
   "source": []
  }
 ],
 "metadata": {
  "kernelspec": {
   "display_name": "Python 3",
   "language": "python",
   "name": "python3"
  },
  "language_info": {
   "codemirror_mode": {
    "name": "ipython",
    "version": 3
   },
   "file_extension": ".py",
   "mimetype": "text/x-python",
   "name": "python",
   "nbconvert_exporter": "python",
   "pygments_lexer": "ipython3",
   "version": "3.10.13"
  }
 },
 "nbformat": 4,
 "nbformat_minor": 4
}
