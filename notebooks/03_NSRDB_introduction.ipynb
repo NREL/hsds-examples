{
 "cells": [
  {
   "cell_type": "markdown",
   "metadata": {},
   "source": [
    "## NREL National Solar Radiation Database (NSRDB) - HSDS Demo"
   ]
  },
  {
   "cell_type": "markdown",
   "metadata": {},
   "source": [
    "This notebook demonstrates basic usage of the National Renewable Energy Laboratory (NREL) National Solar Radiation Database (NSRDB) data. The data is provided from Amazon Web Services using the HDF Group's Highly Scalable Data Service (HSDS).\n",
    "\n",
    "For this to work you must first install h5pyd:\n",
    "\n",
    "```\n",
    "pip install --user h5pyd\n",
    "```\n",
    "\n",
    "Next you'll need to configure HSDS:\n",
    "\n",
    "```\n",
    "hsconfigure\n",
    "```\n",
    "\n",
    "and enter at the prompt:\n",
    "\n",
    "```\n",
    "hs_endpoint = https://developer.nrel.gov/api/hsds\n",
    "hs_username = None\n",
    "hs_password = None\n",
    "hs_api_key = 3K3JQbjZmWctY0xmIfSYvYgtIcM3CN0cb1Y2w9bf\n",
    "```\n",
    "\n",
    "*The example API key here is for demonstation and is rate-limited per IP. To get your own API key, visit https://developer.nrel.gov/signup/*\n",
    "\n",
    "You can also add the above contents to a configuration file at ~/.hscfg"
   ]
  },
  {
   "cell_type": "code",
   "execution_count": 99,
   "metadata": {
    "ExecuteTime": {
     "end_time": "2019-02-06T19:48:39.175801Z",
     "start_time": "2019-02-06T19:48:39.034304Z"
    }
   },
   "outputs": [],
   "source": [
    "%matplotlib inline\n",
    "import h5pyd\n",
    "import numpy as np\n",
    "import pandas as pd\n",
    "import matplotlib.pyplot as plt\n",
    "import matplotlib.image as mpimg\n",
    "from scipy.spatial import cKDTree"
   ]
  },
  {
   "cell_type": "markdown",
   "metadata": {},
   "source": [
    "## Basic Usage\n",
    "\n",
    "The NSRDB is provided in annual .h5 files and currently spans 1998-2018.  \n",
    "Each year can be accessed from /nrel/nsrdb/nsrdb_${year}.h5"
   ]
  },
  {
   "cell_type": "code",
   "execution_count": 3,
   "metadata": {
    "ExecuteTime": {
     "end_time": "2019-02-06T18:32:02.178393Z",
     "start_time": "2019-02-06T18:32:01.822243Z"
    }
   },
   "outputs": [],
   "source": [
    "# Open the desired year of nsrdb data\n",
    "# server endpoint, username, password is found via a config file\n",
    "f = h5pyd.File(\"/nrel/nsrdb/v3/nsrdb_2012.h5\", 'r')"
   ]
  },
  {
   "cell_type": "code",
   "execution_count": 4,
   "metadata": {
    "ExecuteTime": {
     "end_time": "2019-02-06T18:32:04.318312Z",
     "start_time": "2019-02-06T18:32:03.824155Z"
    }
   },
   "outputs": [
    {
     "data": {
      "text/plain": [
       "['version']"
      ]
     },
     "execution_count": 4,
     "metadata": {},
     "output_type": "execute_result"
    }
   ],
   "source": [
    "list(f.attrs)  # list attributes belonging to the root group"
   ]
  },
  {
   "cell_type": "code",
   "execution_count": 5,
   "metadata": {
    "ExecuteTime": {
     "end_time": "2019-02-06T18:32:09.277364Z",
     "start_time": "2019-02-06T18:32:09.032427Z"
    }
   },
   "outputs": [
    {
     "data": {
      "text/plain": [
       "'v3.0.1'"
      ]
     },
     "execution_count": 5,
     "metadata": {},
     "output_type": "execute_result"
    }
   ],
   "source": [
    "f.attrs['version']   # attributes can be used to provide desriptions of the content"
   ]
  },
  {
   "cell_type": "markdown",
   "metadata": {},
   "source": [
    "## Datasets"
   ]
  },
  {
   "cell_type": "code",
   "execution_count": 6,
   "metadata": {
    "ExecuteTime": {
     "end_time": "2019-02-06T18:33:57.735172Z",
     "start_time": "2019-02-06T18:33:57.373693Z"
    }
   },
   "outputs": [
    {
     "data": {
      "text/plain": [
       "['air_temperature',\n",
       " 'clearsky_dhi',\n",
       " 'clearsky_dni',\n",
       " 'clearsky_ghi',\n",
       " 'cloud_type',\n",
       " 'coordinates',\n",
       " 'dew_point',\n",
       " 'dhi',\n",
       " 'dni',\n",
       " 'fill_flag',\n",
       " 'ghi',\n",
       " 'meta',\n",
       " 'relative_humidity',\n",
       " 'solar_zenith_angle',\n",
       " 'surface_albedo',\n",
       " 'surface_pressure',\n",
       " 'time_index',\n",
       " 'total_precipitable_water',\n",
       " 'wind_direction',\n",
       " 'wind_speed']"
      ]
     },
     "execution_count": 6,
     "metadata": {},
     "output_type": "execute_result"
    }
   ],
   "source": [
    "list(f)  # list the datasets in the file"
   ]
  },
  {
   "cell_type": "code",
   "execution_count": 7,
   "metadata": {
    "ExecuteTime": {
     "end_time": "2019-02-06T18:34:32.751989Z",
     "start_time": "2019-02-06T18:34:32.630250Z"
    }
   },
   "outputs": [
    {
     "data": {
      "text/plain": [
       "(17568, 2018392)"
      ]
     },
     "execution_count": 7,
     "metadata": {},
     "output_type": "execute_result"
    }
   ],
   "source": [
    "# Datasets are stored in a 2d array of time x location\n",
    "dset = f['ghi']\n",
    "dset.shape"
   ]
  },
  {
   "cell_type": "code",
   "execution_count": 18,
   "metadata": {
    "ExecuteTime": {
     "end_time": "2019-02-06T18:45:17.972025Z",
     "start_time": "2019-02-06T18:45:17.286944Z"
    }
   },
   "outputs": [
    {
     "data": {
      "text/plain": [
       "DatetimeIndex(['2012-01-01 00:00:00', '2012-01-01 00:30:00',\n",
       "               '2012-01-01 01:00:00', '2012-01-01 01:30:00',\n",
       "               '2012-01-01 02:00:00', '2012-01-01 02:30:00',\n",
       "               '2012-01-01 03:00:00', '2012-01-01 03:30:00',\n",
       "               '2012-01-01 04:00:00', '2012-01-01 04:30:00',\n",
       "               ...\n",
       "               '2012-12-31 19:00:00', '2012-12-31 19:30:00',\n",
       "               '2012-12-31 20:00:00', '2012-12-31 20:30:00',\n",
       "               '2012-12-31 21:00:00', '2012-12-31 21:30:00',\n",
       "               '2012-12-31 22:00:00', '2012-12-31 22:30:00',\n",
       "               '2012-12-31 23:00:00', '2012-12-31 23:30:00'],\n",
       "              dtype='datetime64[ns]', length=17568, freq=None)"
      ]
     },
     "execution_count": 18,
     "metadata": {},
     "output_type": "execute_result"
    }
   ],
   "source": [
    "# Extract datetime index for datasets\n",
    "time_index = pd.to_datetime(f['time_index'][...].astype(str))\n",
    "time_index # Temporal resolution is 30min"
   ]
  },
  {
   "cell_type": "code",
   "execution_count": 19,
   "metadata": {
    "ExecuteTime": {
     "end_time": "2019-02-06T18:46:51.882658Z",
     "start_time": "2019-02-06T18:46:06.078162Z"
    }
   },
   "outputs": [
    {
     "data": {
      "text/html": [
       "<div>\n",
       "<style scoped>\n",
       "    .dataframe tbody tr th:only-of-type {\n",
       "        vertical-align: middle;\n",
       "    }\n",
       "\n",
       "    .dataframe tbody tr th {\n",
       "        vertical-align: top;\n",
       "    }\n",
       "\n",
       "    .dataframe thead th {\n",
       "        text-align: right;\n",
       "    }\n",
       "</style>\n",
       "<table border=\"1\" class=\"dataframe\">\n",
       "  <thead>\n",
       "    <tr style=\"text-align: right;\">\n",
       "      <th></th>\n",
       "      <th>latitude</th>\n",
       "      <th>longitude</th>\n",
       "      <th>elevation</th>\n",
       "      <th>timezone</th>\n",
       "      <th>country</th>\n",
       "      <th>state</th>\n",
       "      <th>county</th>\n",
       "      <th>urban</th>\n",
       "      <th>population</th>\n",
       "      <th>landcover</th>\n",
       "    </tr>\n",
       "  </thead>\n",
       "  <tbody>\n",
       "    <tr>\n",
       "      <th>0</th>\n",
       "      <td>-19.99</td>\n",
       "      <td>-175.259995</td>\n",
       "      <td>0.0</td>\n",
       "      <td>13</td>\n",
       "      <td>b'None'</td>\n",
       "      <td>b'None'</td>\n",
       "      <td>b'None'</td>\n",
       "      <td>b'None'</td>\n",
       "      <td>-9999</td>\n",
       "      <td>210</td>\n",
       "    </tr>\n",
       "    <tr>\n",
       "      <th>1</th>\n",
       "      <td>-19.99</td>\n",
       "      <td>-175.220001</td>\n",
       "      <td>0.0</td>\n",
       "      <td>13</td>\n",
       "      <td>b'None'</td>\n",
       "      <td>b'None'</td>\n",
       "      <td>b'None'</td>\n",
       "      <td>b'None'</td>\n",
       "      <td>-9999</td>\n",
       "      <td>210</td>\n",
       "    </tr>\n",
       "    <tr>\n",
       "      <th>2</th>\n",
       "      <td>-19.99</td>\n",
       "      <td>-175.179993</td>\n",
       "      <td>0.0</td>\n",
       "      <td>13</td>\n",
       "      <td>b'None'</td>\n",
       "      <td>b'None'</td>\n",
       "      <td>b'None'</td>\n",
       "      <td>b'None'</td>\n",
       "      <td>-9999</td>\n",
       "      <td>210</td>\n",
       "    </tr>\n",
       "    <tr>\n",
       "      <th>3</th>\n",
       "      <td>-19.99</td>\n",
       "      <td>-175.139999</td>\n",
       "      <td>0.0</td>\n",
       "      <td>13</td>\n",
       "      <td>b'None'</td>\n",
       "      <td>b'None'</td>\n",
       "      <td>b'None'</td>\n",
       "      <td>b'None'</td>\n",
       "      <td>-9999</td>\n",
       "      <td>210</td>\n",
       "    </tr>\n",
       "    <tr>\n",
       "      <th>4</th>\n",
       "      <td>-19.99</td>\n",
       "      <td>-175.100006</td>\n",
       "      <td>0.0</td>\n",
       "      <td>13</td>\n",
       "      <td>b'None'</td>\n",
       "      <td>b'None'</td>\n",
       "      <td>b'None'</td>\n",
       "      <td>b'None'</td>\n",
       "      <td>-9999</td>\n",
       "      <td>210</td>\n",
       "    </tr>\n",
       "  </tbody>\n",
       "</table>\n",
       "</div>"
      ],
      "text/plain": [
       "   latitude   longitude  elevation  timezone  country    state   county  \\\n",
       "0    -19.99 -175.259995        0.0        13  b'None'  b'None'  b'None'   \n",
       "1    -19.99 -175.220001        0.0        13  b'None'  b'None'  b'None'   \n",
       "2    -19.99 -175.179993        0.0        13  b'None'  b'None'  b'None'   \n",
       "3    -19.99 -175.139999        0.0        13  b'None'  b'None'  b'None'   \n",
       "4    -19.99 -175.100006        0.0        13  b'None'  b'None'  b'None'   \n",
       "\n",
       "     urban  population  landcover  \n",
       "0  b'None'       -9999        210  \n",
       "1  b'None'       -9999        210  \n",
       "2  b'None'       -9999        210  \n",
       "3  b'None'       -9999        210  \n",
       "4  b'None'       -9999        210  "
      ]
     },
     "execution_count": 19,
     "metadata": {},
     "output_type": "execute_result"
    }
   ],
   "source": [
    "# Locational information is stored in either 'meta' or 'coordinates'\n",
    "meta = pd.DataFrame(f['meta'][...])\n",
    "meta.head()"
   ]
  },
  {
   "cell_type": "code",
   "execution_count": 20,
   "metadata": {
    "ExecuteTime": {
     "end_time": "2019-02-06T18:47:46.899747Z",
     "start_time": "2019-02-06T18:47:46.896662Z"
    }
   },
   "outputs": [
    {
     "data": {
      "text/plain": [
       "dtype('int16')"
      ]
     },
     "execution_count": 20,
     "metadata": {},
     "output_type": "execute_result"
    }
   ],
   "source": [
    "# Datasets have been saved as integers\n",
    "dset.dtype"
   ]
  },
  {
   "cell_type": "code",
   "execution_count": 21,
   "metadata": {
    "ExecuteTime": {
     "end_time": "2019-02-06T18:47:51.066179Z",
     "start_time": "2019-02-06T18:47:51.062426Z"
    }
   },
   "outputs": [
    {
     "data": {
      "text/plain": [
       "70.918221312"
      ]
     },
     "execution_count": 21,
     "metadata": {},
     "output_type": "execute_result"
    }
   ],
   "source": [
    "dset.shape[0] * dset.shape[1] * 2 * 10**-9 # 70 GB per dataset!"
   ]
  },
  {
   "cell_type": "code",
   "execution_count": 23,
   "metadata": {
    "ExecuteTime": {
     "end_time": "2019-02-06T18:47:57.377851Z",
     "start_time": "2019-02-06T18:47:57.374273Z"
    }
   },
   "outputs": [
    {
     "data": {
      "text/plain": [
       "(336, 2976)"
      ]
     },
     "execution_count": 23,
     "metadata": {},
     "output_type": "execute_result"
    }
   ],
   "source": [
    "dset.chunks # Chunked by week"
   ]
  },
  {
   "cell_type": "code",
   "execution_count": 24,
   "metadata": {
    "ExecuteTime": {
     "end_time": "2019-02-06T18:47:58.010112Z",
     "start_time": "2019-02-06T18:47:58.005677Z"
    }
   },
   "outputs": [
    {
     "data": {
      "text/plain": [
       "1.9998719999999999"
      ]
     },
     "execution_count": 24,
     "metadata": {},
     "output_type": "execute_result"
    }
   ],
   "source": [
    "dset.chunks[0] * dset.chunks[1] * 2 * 10**-6 # 2 MB per chunk"
   ]
  },
  {
   "cell_type": "code",
   "execution_count": 27,
   "metadata": {
    "ExecuteTime": {
     "end_time": "2019-02-06T18:49:17.786073Z",
     "start_time": "2019-02-06T18:49:17.671184Z"
    }
   },
   "outputs": [
    {
     "data": {
      "text/plain": [
       "1"
      ]
     },
     "execution_count": 27,
     "metadata": {},
     "output_type": "execute_result"
    }
   ],
   "source": [
    "# To convert dataset values back to floats use the 'psm_scale_factor'\n",
    "dset.attrs['psm_scale_factor'] # Irradiance values have been truncated to integer precision"
   ]
  },
  {
   "cell_type": "code",
   "execution_count": 32,
   "metadata": {
    "ExecuteTime": {
     "end_time": "2019-02-06T18:52:13.089310Z",
     "start_time": "2019-02-06T18:52:12.342907Z"
    }
   },
   "outputs": [
    {
     "name": "stdout",
     "output_type": "stream",
     "text": [
      "wind_speed scale factor =  10.0\n",
      "wind_speed units after unscaling =  degrees\n"
     ]
    },
    {
     "data": {
      "text/plain": [
       "3.9"
      ]
     },
     "execution_count": 32,
     "metadata": {},
     "output_type": "execute_result"
    }
   ],
   "source": [
    "# wind speed on the other hand has single decimal percision when scaled by 10\n",
    "scale_factor = f['wind_speed'].attrs['psm_scale_factor']\n",
    "units = f['wind_speed'].attrs['psm_units']\n",
    "print('wind_speed scale factor = ', scale_factor)\n",
    "print('wind_speed units after unscaling = ', units)\n",
    "f['wind_speed'][0, 0] / scale_factor # divide by scale_factor to return native value"
   ]
  },
  {
   "cell_type": "markdown",
   "metadata": {},
   "source": [
    "## Time-slicing"
   ]
  },
  {
   "cell_type": "markdown",
   "metadata": {},
   "source": [
    "Get the time_index from the server and convert to a pandas DatetimeIndex for convenience:"
   ]
  },
  {
   "cell_type": "code",
   "execution_count": 34,
   "metadata": {
    "ExecuteTime": {
     "end_time": "2019-02-06T18:57:48.925869Z",
     "start_time": "2019-02-06T18:57:47.990623Z"
    }
   },
   "outputs": [
    {
     "data": {
      "text/plain": [
       "DatetimeIndex(['2012-01-01 00:00:00', '2012-01-01 00:30:00',\n",
       "               '2012-01-01 01:00:00', '2012-01-01 01:30:00',\n",
       "               '2012-01-01 02:00:00', '2012-01-01 02:30:00',\n",
       "               '2012-01-01 03:00:00', '2012-01-01 03:30:00',\n",
       "               '2012-01-01 04:00:00', '2012-01-01 04:30:00',\n",
       "               ...\n",
       "               '2012-12-31 19:00:00', '2012-12-31 19:30:00',\n",
       "               '2012-12-31 20:00:00', '2012-12-31 20:30:00',\n",
       "               '2012-12-31 21:00:00', '2012-12-31 21:30:00',\n",
       "               '2012-12-31 22:00:00', '2012-12-31 22:30:00',\n",
       "               '2012-12-31 23:00:00', '2012-12-31 23:30:00'],\n",
       "              dtype='datetime64[ns]', length=17568, freq=None)"
      ]
     },
     "execution_count": 34,
     "metadata": {},
     "output_type": "execute_result"
    }
   ],
   "source": [
    "time_index = pd.to_datetime(f['time_index'][...].astype(str))\n",
    "time_index"
   ]
  },
  {
   "cell_type": "markdown",
   "metadata": {},
   "source": [
    "Extract indexes for a particular span of time:"
   ]
  },
  {
   "cell_type": "code",
   "execution_count": 37,
   "metadata": {
    "ExecuteTime": {
     "end_time": "2019-02-06T19:00:14.646068Z",
     "start_time": "2019-02-06T19:00:14.641059Z"
    }
   },
   "outputs": [
    {
     "data": {
      "text/plain": [
       "array([2880, 2881, 2882, ..., 4365, 4366, 4367])"
      ]
     },
     "execution_count": 37,
     "metadata": {},
     "output_type": "execute_result"
    }
   ],
   "source": [
    "march = time_index.month == 3\n",
    "np.where(march)[0]"
   ]
  },
  {
   "cell_type": "markdown",
   "metadata": {},
   "source": [
    "Or a particular date:"
   ]
  },
  {
   "cell_type": "code",
   "execution_count": 65,
   "metadata": {
    "ExecuteTime": {
     "end_time": "2019-02-06T19:16:18.978254Z",
     "start_time": "2019-02-06T19:16:18.973874Z"
    }
   },
   "outputs": [
    {
     "data": {
      "text/plain": [
       "8880"
      ]
     },
     "execution_count": 65,
     "metadata": {},
     "output_type": "execute_result"
    }
   ],
   "source": [
    "timestep = np.where(time_index == '2012-07-04 00:00:00')[0][0]\n",
    "timestep"
   ]
  },
  {
   "cell_type": "markdown",
   "metadata": {},
   "source": [
    "## Map Data"
   ]
  },
  {
   "cell_type": "code",
   "execution_count": 66,
   "metadata": {
    "ExecuteTime": {
     "end_time": "2019-02-06T19:16:28.086246Z",
     "start_time": "2019-02-06T19:16:24.814153Z"
    }
   },
   "outputs": [
    {
     "name": "stdout",
     "output_type": "stream",
     "text": [
      "{'description': '(latitude, longitude)'}\n"
     ]
    }
   ],
   "source": [
    "# Extract coordinates (lat, lon)\n",
    "print(dict(f['coordinates'].attrs))\n",
    "coords = f['coordinates'][...]"
   ]
  },
  {
   "cell_type": "code",
   "execution_count": 93,
   "metadata": {
    "ExecuteTime": {
     "end_time": "2019-02-06T19:30:40.930339Z",
     "start_time": "2019-02-06T19:30:37.902430Z"
    }
   },
   "outputs": [
    {
     "name": "stdout",
     "output_type": "stream",
     "text": [
      "CPU times: user 5.54 ms, sys: 3.71 ms, total: 9.25 ms\n",
      "Wall time: 2.66 s\n"
     ]
    }
   ],
   "source": [
    "dset = f['ghi']\n",
    "%time data = dset[timestep, ::10]   # extract every 10th location at a particular time\n",
    "df = pd.DataFrame() # Combine data with coordinates in a DataFrame\n",
    "df['longitude'] = coords[::10, 1]\n",
    "df['latitude'] = coords[::10, 0]\n",
    "df['ghi'] = data / dset.attrs['psm_scale_factor'] # unscale dataset"
   ]
  },
  {
   "cell_type": "code",
   "execution_count": 94,
   "metadata": {
    "ExecuteTime": {
     "end_time": "2019-02-06T19:30:40.935891Z",
     "start_time": "2019-02-06T19:30:40.932229Z"
    }
   },
   "outputs": [
    {
     "data": {
      "text/plain": [
       "(201840, 3)"
      ]
     },
     "execution_count": 94,
     "metadata": {},
     "output_type": "execute_result"
    }
   ],
   "source": [
    "df.shape"
   ]
  },
  {
   "cell_type": "code",
   "execution_count": 95,
   "metadata": {
    "ExecuteTime": {
     "end_time": "2019-02-06T19:30:50.703645Z",
     "start_time": "2019-02-06T19:30:44.870411Z"
    }
   },
   "outputs": [
    {
     "data": {
      "image/png": "[encoded data removed]",
      "text/plain": [
       "<Figure size 432x288 with 2 Axes>"
      ]
     },
     "metadata": {
      "needs_background": "light"
     },
     "output_type": "display_data"
    }
   ],
   "source": [
    "df.plot.scatter(x='longitude', y='latitude', c='ghi',\n",
    "                colormap='YlOrRd',\n",
    "                title=str(time_index[timestep]))\n",
    "plt.show()"
   ]
  },
  {
   "cell_type": "code",
   "execution_count": 96,
   "metadata": {
    "ExecuteTime": {
     "end_time": "2019-02-06T19:38:03.467178Z",
     "start_time": "2019-02-06T19:38:03.343285Z"
    }
   },
   "outputs": [
    {
     "data": {
      "text/html": [
       "<div>\n",
       "<style scoped>\n",
       "    .dataframe tbody tr th:only-of-type {\n",
       "        vertical-align: middle;\n",
       "    }\n",
       "\n",
       "    .dataframe tbody tr th {\n",
       "        vertical-align: top;\n",
       "    }\n",
       "\n",
       "    .dataframe thead th {\n",
       "        text-align: right;\n",
       "    }\n",
       "</style>\n",
       "<table border=\"1\" class=\"dataframe\">\n",
       "  <thead>\n",
       "    <tr style=\"text-align: right;\">\n",
       "      <th></th>\n",
       "      <th>latitude</th>\n",
       "      <th>longitude</th>\n",
       "      <th>elevation</th>\n",
       "      <th>timezone</th>\n",
       "      <th>country</th>\n",
       "      <th>state</th>\n",
       "      <th>county</th>\n",
       "      <th>urban</th>\n",
       "      <th>population</th>\n",
       "      <th>landcover</th>\n",
       "    </tr>\n",
       "  </thead>\n",
       "  <tbody>\n",
       "    <tr>\n",
       "      <th>70276</th>\n",
       "      <td>32.529999</td>\n",
       "      <td>-117.099998</td>\n",
       "      <td>55.062500</td>\n",
       "      <td>-8</td>\n",
       "      <td>b'United States'</td>\n",
       "      <td>b'California'</td>\n",
       "      <td>b'San Diego'</td>\n",
       "      <td>b'None'</td>\n",
       "      <td>32326</td>\n",
       "      <td>130</td>\n",
       "    </tr>\n",
       "    <tr>\n",
       "      <th>70588</th>\n",
       "      <td>32.570000</td>\n",
       "      <td>-117.099998</td>\n",
       "      <td>7.100000</td>\n",
       "      <td>-8</td>\n",
       "      <td>b'United States'</td>\n",
       "      <td>b'California'</td>\n",
       "      <td>b'San Diego'</td>\n",
       "      <td>b'Tijuana'</td>\n",
       "      <td>27971</td>\n",
       "      <td>190</td>\n",
       "    </tr>\n",
       "    <tr>\n",
       "      <th>70589</th>\n",
       "      <td>32.570000</td>\n",
       "      <td>-117.059998</td>\n",
       "      <td>24.920000</td>\n",
       "      <td>-8</td>\n",
       "      <td>b'United States'</td>\n",
       "      <td>b'California'</td>\n",
       "      <td>b'San Diego'</td>\n",
       "      <td>b'Tijuana'</td>\n",
       "      <td>51608</td>\n",
       "      <td>190</td>\n",
       "    </tr>\n",
       "    <tr>\n",
       "      <th>70590</th>\n",
       "      <td>32.570000</td>\n",
       "      <td>-117.019997</td>\n",
       "      <td>96.599998</td>\n",
       "      <td>-8</td>\n",
       "      <td>b'United States'</td>\n",
       "      <td>b'California'</td>\n",
       "      <td>b'San Diego'</td>\n",
       "      <td>b'Tijuana'</td>\n",
       "      <td>15236</td>\n",
       "      <td>110</td>\n",
       "    </tr>\n",
       "    <tr>\n",
       "      <th>70591</th>\n",
       "      <td>32.570000</td>\n",
       "      <td>-116.980003</td>\n",
       "      <td>140.600006</td>\n",
       "      <td>-8</td>\n",
       "      <td>b'United States'</td>\n",
       "      <td>b'California'</td>\n",
       "      <td>b'San Diego'</td>\n",
       "      <td>b'Tijuana'</td>\n",
       "      <td>2949</td>\n",
       "      <td>130</td>\n",
       "    </tr>\n",
       "  </tbody>\n",
       "</table>\n",
       "</div>"
      ],
      "text/plain": [
       "        latitude   longitude   elevation  timezone           country  \\\n",
       "70276  32.529999 -117.099998   55.062500        -8  b'United States'   \n",
       "70588  32.570000 -117.099998    7.100000        -8  b'United States'   \n",
       "70589  32.570000 -117.059998   24.920000        -8  b'United States'   \n",
       "70590  32.570000 -117.019997   96.599998        -8  b'United States'   \n",
       "70591  32.570000 -116.980003  140.600006        -8  b'United States'   \n",
       "\n",
       "               state        county       urban  population  landcover  \n",
       "70276  b'California'  b'San Diego'     b'None'       32326        130  \n",
       "70588  b'California'  b'San Diego'  b'Tijuana'       27971        190  \n",
       "70589  b'California'  b'San Diego'  b'Tijuana'       51608        190  \n",
       "70590  b'California'  b'San Diego'  b'Tijuana'       15236        110  \n",
       "70591  b'California'  b'San Diego'  b'Tijuana'        2949        130  "
      ]
     },
     "execution_count": 96,
     "metadata": {},
     "output_type": "execute_result"
    }
   ],
   "source": [
    "# Full resolution subset of Colorado\n",
    "meta = pd.DataFrame(f['meta'][...])\n",
    "CA = meta.loc[meta['state'] == b'California'] # Note .h5 saves strings as bit-strings\n",
    "CA.head()"
   ]
  },
  {
   "cell_type": "code",
   "execution_count": 97,
   "metadata": {
    "ExecuteTime": {
     "end_time": "2019-02-06T19:38:14.050394Z",
     "start_time": "2019-02-06T19:38:09.966272Z"
    }
   },
   "outputs": [
    {
     "name": "stdout",
     "output_type": "stream",
     "text": [
      "CPU times: user 31.4 ms, sys: 27.3 ms, total: 58.8 ms\n",
      "Wall time: 3.96 s\n"
     ]
    },
    {
     "data": {
      "text/plain": [
       "(26010, 3)"
      ]
     },
     "execution_count": 97,
     "metadata": {},
     "output_type": "execute_result"
    }
   ],
   "source": [
    "%time data = dset[timestep][CA.index]  # full-resolution subset\n",
    "df = CA[['longitude', 'latitude']].copy()\n",
    "df['ghi'] = data / dset.attrs['psm_scale_factor']\n",
    "df.shape"
   ]
  },
  {
   "cell_type": "code",
   "execution_count": 98,
   "metadata": {
    "ExecuteTime": {
     "end_time": "2019-02-06T19:38:16.260753Z",
     "start_time": "2019-02-06T19:38:15.367784Z"
    }
   },
   "outputs": [
    {
     "data": {
      "image/png": "[encoded data removed]",
      "text/plain": [
       "<Figure size 432x288 with 2 Axes>"
      ]
     },
     "metadata": {
      "needs_background": "light"
     },
     "output_type": "display_data"
    }
   ],
   "source": [
    "df.plot.scatter(x='longitude', y='latitude', c='ghi',\n",
    "                colormap='YlOrRd',\n",
    "                title=str(time_index[timestep]))\n",
    "plt.show()"
   ]
  },
  {
   "cell_type": "markdown",
   "metadata": {},
   "source": [
    "## Nearest Timeseries for given Lat/Lon"
   ]
  },
  {
   "cell_type": "code",
   "execution_count": 103,
   "metadata": {
    "ExecuteTime": {
     "end_time": "2019-02-06T19:52:44.346725Z",
     "start_time": "2019-02-06T19:52:34.038821Z"
    }
   },
   "outputs": [
    {
     "name": "stdout",
     "output_type": "stream",
     "text": [
      "Site index for New York City: \t\t 1244690\n",
      "Coordinates of New York City: \t (40.7128, -74.0059)\n",
      "Coordinates of nearest point: \t [ 40.73 -74.02]\n"
     ]
    }
   ],
   "source": [
    "# Unlike the gridded WTK data the NSRDB is provided as sparse time-series dataset.\n",
    "# The quickest way to find the nearest site it using a KDtree\n",
    "\n",
    "dset_coords = f['coordinates'][...]\n",
    "tree = cKDTree(dset_coords)\n",
    "def nearest_site(tree, lat_coord, lon_coord):\n",
    "    lat_lon = np.array([lat_coord, lon_coord])\n",
    "    dist, pos = tree.query(lat_lon)\n",
    "    return pos\n",
    "\n",
    "NewYorkCity = (40.7128, -74.0059)\n",
    "NewYorkCity_idx = nearest_site(tree, NewYorkCity[0], NewYorkCity[1] )\n",
    "\n",
    "print(\"Site index for New York City: \\t\\t {}\".format(NewYorkCity_idx))\n",
    "print(\"Coordinates of New York City: \\t {}\".format(NewYorkCity))\n",
    "print(\"Coordinates of nearest point: \\t {}\".format(dset_coords[NewYorkCity_idx]))"
   ]
  },
  {
   "cell_type": "code",
   "execution_count": 104,
   "metadata": {
    "ExecuteTime": {
     "end_time": "2019-02-06T19:53:48.160502Z",
     "start_time": "2019-02-06T19:53:46.607119Z"
    }
   },
   "outputs": [
    {
     "name": "stdout",
     "output_type": "stream",
     "text": [
      "CPU times: user 2.99 ms, sys: 1.55 ms, total: 4.54 ms\n",
      "Wall time: 1.55 s\n"
     ]
    }
   ],
   "source": [
    "# Get the entire 2012 timeseries data for a point in NYC\n",
    "%time tseries = dset[:, NewYorkCity_idx] / dset.attrs['psm_scale_factor']"
   ]
  },
  {
   "cell_type": "code",
   "execution_count": 105,
   "metadata": {
    "ExecuteTime": {
     "end_time": "2019-02-06T19:53:48.165562Z",
     "start_time": "2019-02-06T19:53:48.162324Z"
    }
   },
   "outputs": [
    {
     "data": {
      "text/plain": [
       "17568"
      ]
     },
     "execution_count": 105,
     "metadata": {},
     "output_type": "execute_result"
    }
   ],
   "source": [
    "len(tseries)   # 1 years * 365 days * 24 hours * 30 minutes"
   ]
  },
  {
   "cell_type": "code",
   "execution_count": 107,
   "metadata": {
    "ExecuteTime": {
     "end_time": "2019-02-06T19:54:20.235635Z",
     "start_time": "2019-02-06T19:54:20.063966Z"
    }
   },
   "outputs": [
    {
     "data": {
      "text/plain": [
       "Text(0.5, 1.0, 'NYC ghi in 2012')"
      ]
     },
     "execution_count": 107,
     "metadata": {},
     "output_type": "execute_result"
    },
    {
     "data": {
      "image/png": "[encoded data removed]",
      "text/plain": [
       "<Figure size 432x288 with 1 Axes>"
      ]
     },
     "metadata": {
      "needs_background": "light"
     },
     "output_type": "display_data"
    }
   ],
   "source": [
    "plt.plot(time_index, tseries)\n",
    "plt.ylabel(\"ghi\")\n",
    "plt.title(\"NYC ghi in 2012\")"
   ]
  },
  {
   "cell_type": "markdown",
   "metadata": {},
   "source": [
    "## GHI Statistics"
   ]
  },
  {
   "cell_type": "code",
   "execution_count": 108,
   "metadata": {
    "ExecuteTime": {
     "end_time": "2019-02-06T19:58:14.770799Z",
     "start_time": "2019-02-06T19:58:14.726103Z"
    }
   },
   "outputs": [
    {
     "data": {
      "text/html": [
       "<div>\n",
       "<style scoped>\n",
       "    .dataframe tbody tr th:only-of-type {\n",
       "        vertical-align: middle;\n",
       "    }\n",
       "\n",
       "    .dataframe tbody tr th {\n",
       "        vertical-align: top;\n",
       "    }\n",
       "\n",
       "    .dataframe thead th {\n",
       "        text-align: right;\n",
       "    }\n",
       "</style>\n",
       "<table border=\"1\" class=\"dataframe\">\n",
       "  <thead>\n",
       "    <tr style=\"text-align: right;\">\n",
       "      <th>hour</th>\n",
       "      <th>0</th>\n",
       "      <th>1</th>\n",
       "      <th>2</th>\n",
       "      <th>3</th>\n",
       "      <th>4</th>\n",
       "      <th>5</th>\n",
       "      <th>6</th>\n",
       "      <th>7</th>\n",
       "      <th>8</th>\n",
       "      <th>9</th>\n",
       "      <th>...</th>\n",
       "      <th>14</th>\n",
       "      <th>15</th>\n",
       "      <th>16</th>\n",
       "      <th>17</th>\n",
       "      <th>18</th>\n",
       "      <th>19</th>\n",
       "      <th>20</th>\n",
       "      <th>21</th>\n",
       "      <th>22</th>\n",
       "      <th>23</th>\n",
       "    </tr>\n",
       "    <tr>\n",
       "      <th>month</th>\n",
       "      <th></th>\n",
       "      <th></th>\n",
       "      <th></th>\n",
       "      <th></th>\n",
       "      <th></th>\n",
       "      <th></th>\n",
       "      <th></th>\n",
       "      <th></th>\n",
       "      <th></th>\n",
       "      <th></th>\n",
       "      <th></th>\n",
       "      <th></th>\n",
       "      <th></th>\n",
       "      <th></th>\n",
       "      <th></th>\n",
       "      <th></th>\n",
       "      <th></th>\n",
       "      <th></th>\n",
       "      <th></th>\n",
       "      <th></th>\n",
       "      <th></th>\n",
       "    </tr>\n",
       "  </thead>\n",
       "  <tbody>\n",
       "    <tr>\n",
       "      <th>1</th>\n",
       "      <td>0.000000</td>\n",
       "      <td>0.0</td>\n",
       "      <td>0.0</td>\n",
       "      <td>0.0</td>\n",
       "      <td>0.0</td>\n",
       "      <td>0.0</td>\n",
       "      <td>0.0</td>\n",
       "      <td>0.0</td>\n",
       "      <td>0.0</td>\n",
       "      <td>0.0</td>\n",
       "      <td>...</td>\n",
       "      <td>191.806452</td>\n",
       "      <td>290.774194</td>\n",
       "      <td>314.822581</td>\n",
       "      <td>328.016129</td>\n",
       "      <td>299.096774</td>\n",
       "      <td>224.919355</td>\n",
       "      <td>150.903226</td>\n",
       "      <td>48.370968</td>\n",
       "      <td>0.387097</td>\n",
       "      <td>0.000000</td>\n",
       "    </tr>\n",
       "    <tr>\n",
       "      <th>2</th>\n",
       "      <td>0.000000</td>\n",
       "      <td>0.0</td>\n",
       "      <td>0.0</td>\n",
       "      <td>0.0</td>\n",
       "      <td>0.0</td>\n",
       "      <td>0.0</td>\n",
       "      <td>0.0</td>\n",
       "      <td>0.0</td>\n",
       "      <td>0.0</td>\n",
       "      <td>0.0</td>\n",
       "      <td>...</td>\n",
       "      <td>280.068966</td>\n",
       "      <td>356.431034</td>\n",
       "      <td>410.603448</td>\n",
       "      <td>429.120690</td>\n",
       "      <td>407.586207</td>\n",
       "      <td>353.517241</td>\n",
       "      <td>230.068966</td>\n",
       "      <td>113.689655</td>\n",
       "      <td>17.482759</td>\n",
       "      <td>0.000000</td>\n",
       "    </tr>\n",
       "    <tr>\n",
       "      <th>3</th>\n",
       "      <td>0.000000</td>\n",
       "      <td>0.0</td>\n",
       "      <td>0.0</td>\n",
       "      <td>0.0</td>\n",
       "      <td>0.0</td>\n",
       "      <td>0.0</td>\n",
       "      <td>0.0</td>\n",
       "      <td>0.0</td>\n",
       "      <td>0.0</td>\n",
       "      <td>0.0</td>\n",
       "      <td>...</td>\n",
       "      <td>377.451613</td>\n",
       "      <td>488.935484</td>\n",
       "      <td>528.177419</td>\n",
       "      <td>553.048387</td>\n",
       "      <td>539.645161</td>\n",
       "      <td>462.306452</td>\n",
       "      <td>352.483871</td>\n",
       "      <td>219.112903</td>\n",
       "      <td>81.096774</td>\n",
       "      <td>1.838710</td>\n",
       "    </tr>\n",
       "    <tr>\n",
       "      <th>4</th>\n",
       "      <td>0.000000</td>\n",
       "      <td>0.0</td>\n",
       "      <td>0.0</td>\n",
       "      <td>0.0</td>\n",
       "      <td>0.0</td>\n",
       "      <td>0.0</td>\n",
       "      <td>0.0</td>\n",
       "      <td>0.0</td>\n",
       "      <td>0.0</td>\n",
       "      <td>0.0</td>\n",
       "      <td>...</td>\n",
       "      <td>568.500000</td>\n",
       "      <td>680.566667</td>\n",
       "      <td>697.900000</td>\n",
       "      <td>685.133333</td>\n",
       "      <td>627.966667</td>\n",
       "      <td>561.566667</td>\n",
       "      <td>422.916667</td>\n",
       "      <td>293.516667</td>\n",
       "      <td>147.283333</td>\n",
       "      <td>25.700000</td>\n",
       "    </tr>\n",
       "    <tr>\n",
       "      <th>5</th>\n",
       "      <td>1.580645</td>\n",
       "      <td>0.0</td>\n",
       "      <td>0.0</td>\n",
       "      <td>0.0</td>\n",
       "      <td>0.0</td>\n",
       "      <td>0.0</td>\n",
       "      <td>0.0</td>\n",
       "      <td>0.0</td>\n",
       "      <td>0.0</td>\n",
       "      <td>0.0</td>\n",
       "      <td>...</td>\n",
       "      <td>468.274194</td>\n",
       "      <td>563.596774</td>\n",
       "      <td>581.967742</td>\n",
       "      <td>634.758065</td>\n",
       "      <td>616.290323</td>\n",
       "      <td>546.241935</td>\n",
       "      <td>431.596774</td>\n",
       "      <td>325.645161</td>\n",
       "      <td>183.983871</td>\n",
       "      <td>71.096774</td>\n",
       "    </tr>\n",
       "    <tr>\n",
       "      <th>6</th>\n",
       "      <td>11.500000</td>\n",
       "      <td>0.0</td>\n",
       "      <td>0.0</td>\n",
       "      <td>0.0</td>\n",
       "      <td>0.0</td>\n",
       "      <td>0.0</td>\n",
       "      <td>0.0</td>\n",
       "      <td>0.0</td>\n",
       "      <td>0.0</td>\n",
       "      <td>0.0</td>\n",
       "      <td>...</td>\n",
       "      <td>602.450000</td>\n",
       "      <td>664.683333</td>\n",
       "      <td>723.700000</td>\n",
       "      <td>677.850000</td>\n",
       "      <td>606.800000</td>\n",
       "      <td>579.633333</td>\n",
       "      <td>468.983333</td>\n",
       "      <td>338.783333</td>\n",
       "      <td>200.316667</td>\n",
       "      <td>92.250000</td>\n",
       "    </tr>\n",
       "    <tr>\n",
       "      <th>7</th>\n",
       "      <td>9.048387</td>\n",
       "      <td>0.0</td>\n",
       "      <td>0.0</td>\n",
       "      <td>0.0</td>\n",
       "      <td>0.0</td>\n",
       "      <td>0.0</td>\n",
       "      <td>0.0</td>\n",
       "      <td>0.0</td>\n",
       "      <td>0.0</td>\n",
       "      <td>0.0</td>\n",
       "      <td>...</td>\n",
       "      <td>572.790323</td>\n",
       "      <td>699.177419</td>\n",
       "      <td>719.612903</td>\n",
       "      <td>715.532258</td>\n",
       "      <td>646.532258</td>\n",
       "      <td>604.596774</td>\n",
       "      <td>495.548387</td>\n",
       "      <td>370.564516</td>\n",
       "      <td>226.983871</td>\n",
       "      <td>93.225806</td>\n",
       "    </tr>\n",
       "    <tr>\n",
       "      <th>8</th>\n",
       "      <td>0.161290</td>\n",
       "      <td>0.0</td>\n",
       "      <td>0.0</td>\n",
       "      <td>0.0</td>\n",
       "      <td>0.0</td>\n",
       "      <td>0.0</td>\n",
       "      <td>0.0</td>\n",
       "      <td>0.0</td>\n",
       "      <td>0.0</td>\n",
       "      <td>0.0</td>\n",
       "      <td>...</td>\n",
       "      <td>562.032258</td>\n",
       "      <td>634.000000</td>\n",
       "      <td>671.564516</td>\n",
       "      <td>690.048387</td>\n",
       "      <td>647.725806</td>\n",
       "      <td>556.048387</td>\n",
       "      <td>448.274194</td>\n",
       "      <td>313.483871</td>\n",
       "      <td>163.693548</td>\n",
       "      <td>42.693548</td>\n",
       "    </tr>\n",
       "    <tr>\n",
       "      <th>9</th>\n",
       "      <td>0.000000</td>\n",
       "      <td>0.0</td>\n",
       "      <td>0.0</td>\n",
       "      <td>0.0</td>\n",
       "      <td>0.0</td>\n",
       "      <td>0.0</td>\n",
       "      <td>0.0</td>\n",
       "      <td>0.0</td>\n",
       "      <td>0.0</td>\n",
       "      <td>0.0</td>\n",
       "      <td>...</td>\n",
       "      <td>468.150000</td>\n",
       "      <td>555.883333</td>\n",
       "      <td>604.966667</td>\n",
       "      <td>559.650000</td>\n",
       "      <td>553.516667</td>\n",
       "      <td>473.583333</td>\n",
       "      <td>347.800000</td>\n",
       "      <td>207.400000</td>\n",
       "      <td>74.933333</td>\n",
       "      <td>2.783333</td>\n",
       "    </tr>\n",
       "    <tr>\n",
       "      <th>10</th>\n",
       "      <td>0.000000</td>\n",
       "      <td>0.0</td>\n",
       "      <td>0.0</td>\n",
       "      <td>0.0</td>\n",
       "      <td>0.0</td>\n",
       "      <td>0.0</td>\n",
       "      <td>0.0</td>\n",
       "      <td>0.0</td>\n",
       "      <td>0.0</td>\n",
       "      <td>0.0</td>\n",
       "      <td>...</td>\n",
       "      <td>271.209677</td>\n",
       "      <td>325.741935</td>\n",
       "      <td>397.661290</td>\n",
       "      <td>372.354839</td>\n",
       "      <td>329.112903</td>\n",
       "      <td>261.532258</td>\n",
       "      <td>186.387097</td>\n",
       "      <td>86.548387</td>\n",
       "      <td>7.645161</td>\n",
       "      <td>0.000000</td>\n",
       "    </tr>\n",
       "    <tr>\n",
       "      <th>11</th>\n",
       "      <td>0.000000</td>\n",
       "      <td>0.0</td>\n",
       "      <td>0.0</td>\n",
       "      <td>0.0</td>\n",
       "      <td>0.0</td>\n",
       "      <td>0.0</td>\n",
       "      <td>0.0</td>\n",
       "      <td>0.0</td>\n",
       "      <td>0.0</td>\n",
       "      <td>0.0</td>\n",
       "      <td>...</td>\n",
       "      <td>270.050000</td>\n",
       "      <td>332.133333</td>\n",
       "      <td>353.333333</td>\n",
       "      <td>361.533333</td>\n",
       "      <td>321.416667</td>\n",
       "      <td>236.550000</td>\n",
       "      <td>135.333333</td>\n",
       "      <td>29.450000</td>\n",
       "      <td>0.000000</td>\n",
       "      <td>0.000000</td>\n",
       "    </tr>\n",
       "    <tr>\n",
       "      <th>12</th>\n",
       "      <td>0.000000</td>\n",
       "      <td>0.0</td>\n",
       "      <td>0.0</td>\n",
       "      <td>0.0</td>\n",
       "      <td>0.0</td>\n",
       "      <td>0.0</td>\n",
       "      <td>0.0</td>\n",
       "      <td>0.0</td>\n",
       "      <td>0.0</td>\n",
       "      <td>0.0</td>\n",
       "      <td>...</td>\n",
       "      <td>141.564516</td>\n",
       "      <td>209.838710</td>\n",
       "      <td>242.903226</td>\n",
       "      <td>248.741935</td>\n",
       "      <td>240.516129</td>\n",
       "      <td>175.483871</td>\n",
       "      <td>85.177419</td>\n",
       "      <td>13.806452</td>\n",
       "      <td>0.000000</td>\n",
       "      <td>0.000000</td>\n",
       "    </tr>\n",
       "  </tbody>\n",
       "</table>\n",
       "<p>12 rows × 24 columns</p>\n",
       "</div>"
      ],
      "text/plain": [
       "hour          0    1    2    3    4    5    6    7    8    9     ...      \\\n",
       "month                                                            ...       \n",
       "1       0.000000  0.0  0.0  0.0  0.0  0.0  0.0  0.0  0.0  0.0    ...       \n",
       "2       0.000000  0.0  0.0  0.0  0.0  0.0  0.0  0.0  0.0  0.0    ...       \n",
       "3       0.000000  0.0  0.0  0.0  0.0  0.0  0.0  0.0  0.0  0.0    ...       \n",
       "4       0.000000  0.0  0.0  0.0  0.0  0.0  0.0  0.0  0.0  0.0    ...       \n",
       "5       1.580645  0.0  0.0  0.0  0.0  0.0  0.0  0.0  0.0  0.0    ...       \n",
       "6      11.500000  0.0  0.0  0.0  0.0  0.0  0.0  0.0  0.0  0.0    ...       \n",
       "7       9.048387  0.0  0.0  0.0  0.0  0.0  0.0  0.0  0.0  0.0    ...       \n",
       "8       0.161290  0.0  0.0  0.0  0.0  0.0  0.0  0.0  0.0  0.0    ...       \n",
       "9       0.000000  0.0  0.0  0.0  0.0  0.0  0.0  0.0  0.0  0.0    ...       \n",
       "10      0.000000  0.0  0.0  0.0  0.0  0.0  0.0  0.0  0.0  0.0    ...       \n",
       "11      0.000000  0.0  0.0  0.0  0.0  0.0  0.0  0.0  0.0  0.0    ...       \n",
       "12      0.000000  0.0  0.0  0.0  0.0  0.0  0.0  0.0  0.0  0.0    ...       \n",
       "\n",
       "hour           14          15          16          17          18          19  \\\n",
       "month                                                                           \n",
       "1      191.806452  290.774194  314.822581  328.016129  299.096774  224.919355   \n",
       "2      280.068966  356.431034  410.603448  429.120690  407.586207  353.517241   \n",
       "3      377.451613  488.935484  528.177419  553.048387  539.645161  462.306452   \n",
       "4      568.500000  680.566667  697.900000  685.133333  627.966667  561.566667   \n",
       "5      468.274194  563.596774  581.967742  634.758065  616.290323  546.241935   \n",
       "6      602.450000  664.683333  723.700000  677.850000  606.800000  579.633333   \n",
       "7      572.790323  699.177419  719.612903  715.532258  646.532258  604.596774   \n",
       "8      562.032258  634.000000  671.564516  690.048387  647.725806  556.048387   \n",
       "9      468.150000  555.883333  604.966667  559.650000  553.516667  473.583333   \n",
       "10     271.209677  325.741935  397.661290  372.354839  329.112903  261.532258   \n",
       "11     270.050000  332.133333  353.333333  361.533333  321.416667  236.550000   \n",
       "12     141.564516  209.838710  242.903226  248.741935  240.516129  175.483871   \n",
       "\n",
       "hour           20          21          22         23  \n",
       "month                                                 \n",
       "1      150.903226   48.370968    0.387097   0.000000  \n",
       "2      230.068966  113.689655   17.482759   0.000000  \n",
       "3      352.483871  219.112903   81.096774   1.838710  \n",
       "4      422.916667  293.516667  147.283333  25.700000  \n",
       "5      431.596774  325.645161  183.983871  71.096774  \n",
       "6      468.983333  338.783333  200.316667  92.250000  \n",
       "7      495.548387  370.564516  226.983871  93.225806  \n",
       "8      448.274194  313.483871  163.693548  42.693548  \n",
       "9      347.800000  207.400000   74.933333   2.783333  \n",
       "10     186.387097   86.548387    7.645161   0.000000  \n",
       "11     135.333333   29.450000    0.000000   0.000000  \n",
       "12      85.177419   13.806452    0.000000   0.000000  \n",
       "\n",
       "[12 rows x 24 columns]"
      ]
     },
     "execution_count": 108,
     "metadata": {},
     "output_type": "execute_result"
    }
   ],
   "source": [
    "df = pd.DataFrame({'ghi': tseries}, index=time_index)\n",
    "df[\"year\"] = df.index.year\n",
    "df[\"month\"] = df.index.month\n",
    "df[\"day\"] = df.index.day\n",
    "df[\"hour\"] = df.index.hour\n",
    "\n",
    "agg = df.groupby([\"month\",\"hour\"]).mean()\n",
    "agg = agg.reset_index().pivot(index=\"month\",columns=\"hour\",values=\"ghi\")\n",
    "agg"
   ]
  },
  {
   "cell_type": "code",
   "execution_count": 109,
   "metadata": {
    "ExecuteTime": {
     "end_time": "2019-02-06T19:58:30.404312Z",
     "start_time": "2019-02-06T19:58:30.214762Z"
    }
   },
   "outputs": [
    {
     "data": {
      "text/plain": [
       "<matplotlib.colorbar.Colorbar at 0x127226c18>"
      ]
     },
     "execution_count": 109,
     "metadata": {},
     "output_type": "execute_result"
    },
    {
     "data": {
      "image/png": "[encoded data removed]",
      "text/plain": [
       "<Figure size 432x288 with 2 Axes>"
      ]
     },
     "metadata": {
      "needs_background": "light"
     },
     "output_type": "display_data"
    }
   ],
   "source": [
    "plt.imshow(agg)\n",
    "plt.xlabel(\"Hour\")\n",
    "plt.ylabel(\"Month\")\n",
    "plt.title(\"12 x 24 Mean GHI (W/m^2)\")\n",
    "plt.colorbar()"
   ]
  },
  {
   "cell_type": "code",
   "execution_count": null,
   "metadata": {},
   "outputs": [],
   "source": []
  }
 ],
 "metadata": {
  "kernelspec": {
   "display_name": "Python [conda env:hsds]",
   "language": "python",
   "name": "conda-env-hsds-py"
  },
  "language_info": {
   "codemirror_mode": {
    "name": "ipython",
    "version": 3
   },
   "file_extension": ".py",
   "mimetype": "text/x-python",
   "name": "python",
   "nbconvert_exporter": "python",
   "pygments_lexer": "ipython3",
   "version": "3.7.2"
  }
 },
 "nbformat": 4,
 "nbformat_minor": 1
}