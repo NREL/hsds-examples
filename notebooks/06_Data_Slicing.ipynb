{
 "cells": [
  {
   "cell_type": "markdown",
   "metadata": {},
   "source": [
    "# NSRDB on AWS"
   ]
  },
  {
   "cell_type": "code",
   "execution_count": 1,
   "metadata": {
    "ExecuteTime": {
     "end_time": "2019-06-13T20:12:46.350659Z",
     "start_time": "2019-06-13T20:11:46.936643Z"
    }
   },
   "outputs": [],
   "source": [
    "%matplotlib inline\n",
    "import h5pyd\n",
    "import matplotlib as mpl\n",
    "import matplotlib.pyplot as plt\n",
    "import numpy as np\n",
    "import pandas as pd\n",
    "import matplotlib.pyplot as plt\n",
    "from scipy.spatial import cKDTree\n",
    "import seaborn as sns\n",
    "import time\n",
    "\n",
    "# Plotting settings\n",
    "mpl.rcParams['font.sans-serif'] = 'DejaVu Sans'\n",
    "mpl.rcParams['pdf.fonttype'] = 42\n",
    "mpl.rc('xtick', labelsize=16) \n",
    "mpl.rc('ytick', labelsize=16)\n",
    "mpl.rc('font', size=16)\n",
    "sns.set_style(\"white\")\n",
    "sns.set_style(\"ticks\")\n",
    "\n",
    "\n",
    "def nearest_site(tree, coords):\n",
    "    \"\"\"\n",
    "    Find nearest NSRDB site to coordinate (lat, lon) of interest\n",
    "    \n",
    "    Parameters\n",
    "    ----------\n",
    "    tree : cKDTree\n",
    "        Pre-built KDTree on the NSRDB site coordintes\n",
    "    coords : tuple\n",
    "        (lat, lon) coordinates of interest\n",
    "        \n",
    "    Returns\n",
    "    -------\n",
    "    site_idx : int\n",
    "        Site index in the NSRDB datasets\n",
    "    \"\"\"\n",
    "    lat_lon = np.array(coords)\n",
    "    _, site_idx = tree.query(lat_lon)\n",
    "    return site_idx\n",
    "\n",
    "\n",
    "def nearest_timestep(time_index, timestep):\n",
    "    \"\"\"\n",
    "    Find the nearest NSRDB timestep to timestep of interest\n",
    "    \n",
    "    Parameters\n",
    "    ----------\n",
    "    time_index : pd.Datetime_Index\n",
    "        NSRDB Datetime index\n",
    "    timestep : datetime\n",
    "        Datetime step of interest\n",
    "        \n",
    "    Returns\n",
    "    -------\n",
    "    time_idx : int\n",
    "        Time index in the NSRDB datasets\n",
    "    \"\"\"\n",
    "    delta = np.abs(time_index - timestep)\n",
    "    time_idx = delta.argmin()\n",
    "    \n",
    "    return time_idx\n",
    "\n",
    "\n",
    "def get_region_idx(meta, value, column='state'):\n",
    "    \"\"\"\n",
    "    Find sites associated with given region\n",
    "    \n",
    "    Parameters\n",
    "    ----------\n",
    "    meta : pd.DataFrame\n",
    "        NSRDB site meta data\n",
    "    value : str\n",
    "        Regional value filter to\n",
    "    column : str\n",
    "        Column in the meta data to filter on\n",
    "        \n",
    "    Returns\n",
    "    -------\n",
    "    region_idx : list\n",
    "        Index of all sites corresponding to region of interest\n",
    "    \"\"\"\n",
    "    col_data = meta[column].str.decode('utf-8')\n",
    "    region_idx = meta.index[col_data == value].values\n",
    "    \n",
    "    return region_idx\n",
    "\n",
    "\n",
    "def get_map_coords(meta, time_index, state, date):\n",
    "    \"\"\"\n",
    "    Find spatial and temporal indices for given state and day\n",
    "    \n",
    "    Parameters\n",
    "    ----------\n",
    "    meta : pd.DataFrame\n",
    "        NSRDB site meta data\n",
    "    value : str\n",
    "        Regional value filter to\n",
    "    column : \n",
    "        \n",
    "    Returns\n",
    "    -------\n",
    "    time_idx : slice\n",
    "        Slice of time-index that corresponds to given date\n",
    "    site_idx : list\n",
    "        Indices for all sites in given state\n",
    "    \"\"\"\n",
    "    time_idx = np.where(time_index.date == date)[0]\n",
    "    time_idx = slice(time_idx[0], time_idx[-1] + 1)\n",
    "    \n",
    "    site_idx = get_region_idx(meta, state)\n",
    "    \n",
    "    return time_idx, site_idx\n",
    "\n",
    "with h5pyd.File('/nrel/nsrdb/nsrdb_2017.h5', mode='r') as f:\n",
    "    NSRDB_COORDS = f['coordinates'][...]\n",
    "    META = pd.DataFrame(f['meta'][...])\n",
    "    TIME_INDEX_2017 = pd.to_datetime(f['time_index'][...].astype(str))\n",
    "    \n",
    "TREE = cKDTree(NSRDB_COORDS)"
   ]
  },
  {
   "cell_type": "markdown",
   "metadata": {},
   "source": [
    "# Time-series extraction"
   ]
  },
  {
   "cell_type": "code",
   "execution_count": 2,
   "metadata": {
    "ExecuteTime": {
     "end_time": "2019-06-13T20:12:52.821861Z",
     "start_time": "2019-06-13T20:12:52.815146Z"
    }
   },
   "outputs": [],
   "source": [
    "# Please pick a year of NSRDB data (1998-2017)\n",
    "year = 2017\n",
    "\n",
    "# Please provide coordinates of interest (latitude, longitude)\n",
    "coords = (38.885083, -77.024739)  # NREL DC office"
   ]
  },
  {
   "cell_type": "code",
   "execution_count": 70,
   "metadata": {},
   "outputs": [],
   "source": [
    "idx = get_region_idx(META, 'District of Columbia', column='state')\n",
    "date = pd.to_datetime('2017-07-04').date()\n",
    "time_idx = np.where(TIME_INDEX_2017.date == date)[0]\n",
    "time_idx = slice(time_idx[0], time_idx[-1] + 1)"
   ]
  },
  {
   "cell_type": "code",
   "execution_count": 71,
   "metadata": {},
   "outputs": [
    {
     "name": "stdout",
     "output_type": "stream",
     "text": [
      "21.0073\n"
     ]
    }
   ],
   "source": [
    "ts = time.time()\n",
    "\n",
    "path = '/nrel/nsrdb/nsrdb_{}.h5'.format(year)\n",
    "with h5pyd.File(path, mode='r') as f:\n",
    "     ghi = f['ghi'][time_idx][:, idx]\n",
    "\n",
    "print('{:.4f}'.format(time.time() - ts))"
   ]
  },
  {
   "cell_type": "code",
   "execution_count": 75,
   "metadata": {},
   "outputs": [
    {
     "data": {
      "text/plain": [
       "(48, 11)"
      ]
     },
     "execution_count": 75,
     "metadata": {},
     "output_type": "execute_result"
    }
   ],
   "source": [
    "ghi.shape"
   ]
  },
  {
   "cell_type": "code",
   "execution_count": 78,
   "metadata": {},
   "outputs": [
    {
     "ename": "NameError",
     "evalue": "name 'state_date' is not defined",
     "output_type": "error",
     "traceback": [
      "\u001b[0;31m---------------------------------------------------------------------------\u001b[0m",
      "\u001b[0;31mNameError\u001b[0m                                 Traceback (most recent call last)",
      "\u001b[0;32m<ipython-input-78-aa8f7fe99a6f>\u001b[0m in \u001b[0;36m<module>\u001b[0;34m\u001b[0m\n\u001b[1;32m      3\u001b[0m \u001b[0mstate_data\u001b[0m \u001b[0;34m=\u001b[0m \u001b[0mMETA\u001b[0m\u001b[0;34m.\u001b[0m\u001b[0mloc\u001b[0m\u001b[0;34m[\u001b[0m\u001b[0mus_idx\u001b[0m\u001b[0;34m,\u001b[0m \u001b[0;34m'state'\u001b[0m\u001b[0;34m]\u001b[0m\u001b[0;34m.\u001b[0m\u001b[0mstr\u001b[0m\u001b[0;34m.\u001b[0m\u001b[0mdecode\u001b[0m\u001b[0;34m(\u001b[0m\u001b[0;34m'utf-8'\u001b[0m\u001b[0;34m)\u001b[0m\u001b[0;34m\u001b[0m\u001b[0;34m\u001b[0m\u001b[0m\n\u001b[1;32m      4\u001b[0m \u001b[0mconus_idx\u001b[0m \u001b[0;34m=\u001b[0m \u001b[0mstate_data\u001b[0m\u001b[0;34m.\u001b[0m\u001b[0misin\u001b[0m\u001b[0;34m(\u001b[0m\u001b[0;34m[\u001b[0m\u001b[0;34m'Alaska'\u001b[0m\u001b[0;34m,\u001b[0m \u001b[0;34m'Hawaii'\u001b[0m\u001b[0;34m,\u001b[0m \u001b[0;34m'AK'\u001b[0m\u001b[0;34m,\u001b[0m \u001b[0;34m'HI'\u001b[0m\u001b[0;34m]\u001b[0m\u001b[0;34m)\u001b[0m\u001b[0;34m\u001b[0m\u001b[0;34m\u001b[0m\u001b[0m\n\u001b[0;32m----> 5\u001b[0;31m \u001b[0mconus_idx\u001b[0m \u001b[0;34m=\u001b[0m \u001b[0mstate_date\u001b[0m\u001b[0;34m.\u001b[0m\u001b[0mindex\u001b[0m\u001b[0;34m[\u001b[0m\u001b[0;34m~\u001b[0m\u001b[0mconus_idx\u001b[0m\u001b[0;34m]\u001b[0m\u001b[0;34m\u001b[0m\u001b[0;34m\u001b[0m\u001b[0m\n\u001b[0m",
      "\u001b[0;31mNameError\u001b[0m: name 'state_date' is not defined"
     ]
    }
   ],
   "source": [
    "country_data = META['country'].str.decode('utf-8')\n",
    "us_idx = country_data == 'United States'\n",
    "state_data = META.loc[us_idx, 'state'].str.decode('utf-8')\n",
    "conus_idx = state_data.isin(['Alaska', 'Hawaii', 'AK', 'HI'])\n",
    "conus_idx = state_data.index[~conus_idx]"
   ]
  },
  {
   "cell_type": "code",
   "execution_count": 74,
   "metadata": {},
   "outputs": [
    {
     "data": {
      "image/png": "[encoded data removed]",
      "text/plain": [
       "<Figure size 600x400 with 1 Axes>"
      ]
     },
     "metadata": {
      "needs_background": "light"
     },
     "output_type": "display_data"
    }
   ],
   "source": [
    "meta = META.iloc[idx]\n",
    "lon = meta['longitude'].values\n",
    "lat = meta['latitude'].values\n",
    "\n",
    "fig = plt.figure(figsize=(6, 4), dpi=100)\n",
    "axis = fig.add_subplot(111)\n",
    "axis.scatter(lon, lat, c=ghi[-1], cmap='YlOrRd')\n",
    "plt.show()"
   ]
  },
  {
   "cell_type": "code",
   "execution_count": null,
   "metadata": {},
   "outputs": [],
   "source": []
  }
 ],
 "metadata": {
  "kernelspec": {
   "display_name": "Python [conda env:hsds]",
   "language": "python",
   "name": "conda-env-hsds-py"
  },
  "language_info": {
   "codemirror_mode": {
    "name": "ipython",
    "version": 3
   },
   "file_extension": ".py",
   "mimetype": "text/x-python",
   "name": "python",
   "nbconvert_exporter": "python",
   "pygments_lexer": "ipython3",
   "version": "3.7.2"
  }
 },
 "nbformat": 4,
 "nbformat_minor": 2
}
