{
 "cells": [
  {
   "cell_type": "markdown",
   "metadata": {},
   "source": [
    "# NREL - HSDS Data Export"
   ]
  },
  {
   "cell_type": "markdown",
   "metadata": {},
   "source": [
    "This notebook demonstrates data export from the National Renewable Energy Laboratory (NREL) Wind Integration National Dataset (WIND) Toolkit and National Solar Radiation Database (NSRDB) data. The data is provided from Amazon Web Services using the HDF Group's Highly Scalable Data Service (HSDS).\n",
    "\n",
    "For this to work you must first install h5pyd:\n",
    "\n",
    "```\n",
    "pip install --user git+http://github.com/HDFGroup/h5pyd.git\n",
    "```\n",
    "\n",
    "Then, you can make a configuration file at ~/.hscfg with contents like so:\n",
    "\n",
    "```\n",
    "# HDFCloud configuration file\n",
    "hs_endpoint = https://developer.nrel.gov/api/hsds/\n",
    "hs_username = None\n",
    "hs_password = None\n",
    "hs_api_key = 3K3JQbjZmWctY0xmIfSYvYgtIcM3CN0cb1Y2w9bf\n",
    "```\n",
    "\n",
    "*The example API key here is for demonstation and is rate-limited per IP. To get your own API key, visit https://developer.nrel.gov/signup/*"
   ]
  },
  {
   "cell_type": "code",
   "execution_count": 1,
   "metadata": {
    "ExecuteTime": {
     "end_time": "2019-02-07T15:52:51.300970Z",
     "start_time": "2019-02-07T15:52:50.547216Z"
    }
   },
   "outputs": [],
   "source": [
    "%matplotlib inline\n",
    "import h5pyd\n",
    "import numpy as np\n",
    "import pandas as pd\n",
    "import dateutil\n",
    "import matplotlib.pyplot as plt\n",
    "import matplotlib.image as mpimg\n",
    "\n",
    "import sys\n",
    "sys.path.append('../bin')\n",
    "# convenience functions\n",
    "from functions import WTK_idx, NSRDB_idx, datetimeIndex"
   ]
  },
  {
   "cell_type": "markdown",
   "metadata": {},
   "source": [
    "[WTK](#WIND-Toolkit-(WTK)) | [NSRDB](#National-Solar-Radiation-Database-(NSRDB))"
   ]
  },
  {
   "cell_type": "markdown",
   "metadata": {},
   "source": [
    "## WIND Toolkit (WTK)\n",
    "### Single Multivariate Timeseries"
   ]
  },
  {
   "cell_type": "code",
   "execution_count": 2,
   "metadata": {},
   "outputs": [
    {
     "data": {
      "text/plain": [
       "[u'DIF',\n",
       " u'DNI',\n",
       " u'GHI',\n",
       " u'coordinates',\n",
       " u'datetime',\n",
       " u'inversemoninobukhovlength_2m',\n",
       " u'precipitationrate_0m',\n",
       " u'pressure_0m',\n",
       " u'pressure_100m',\n",
       " u'pressure_200m',\n",
       " u'relativehumidity_2m',\n",
       " u'status',\n",
       " u'temperature_100m',\n",
       " u'temperature_10m',\n",
       " u'temperature_120m',\n",
       " u'temperature_140m',\n",
       " u'temperature_160m',\n",
       " u'temperature_200m',\n",
       " u'temperature_2m',\n",
       " u'temperature_40m',\n",
       " u'temperature_60m',\n",
       " u'temperature_80m',\n",
       " u'winddirection_100m',\n",
       " u'winddirection_10m',\n",
       " u'winddirection_120m',\n",
       " u'winddirection_140m',\n",
       " u'winddirection_160m',\n",
       " u'winddirection_200m',\n",
       " u'winddirection_40m',\n",
       " u'winddirection_60m',\n",
       " u'winddirection_80m',\n",
       " u'windspeed_100m',\n",
       " u'windspeed_10m',\n",
       " u'windspeed_120m',\n",
       " u'windspeed_140m',\n",
       " u'windspeed_160m',\n",
       " u'windspeed_200m',\n",
       " u'windspeed_40m',\n",
       " u'windspeed_60m',\n",
       " u'windspeed_80m']"
      ]
     },
     "execution_count": 2,
     "metadata": {},
     "output_type": "execute_result"
    }
   ],
   "source": [
    "wtk = h5pyd.File(\"/nrel/wtk-us.h5\", 'r')  \n",
    "list(wtk)"
   ]
  },
  {
   "cell_type": "markdown",
   "metadata": {},
   "source": [
    "The following code fetches daily timeseries data for a given lat/lon for three variables."
   ]
  },
  {
   "cell_type": "code",
   "execution_count": 3,
   "metadata": {},
   "outputs": [
    {
     "data": {
      "text/plain": [
       "(921, 1093)"
      ]
     },
     "execution_count": 3,
     "metadata": {},
     "output_type": "execute_result"
    }
   ],
   "source": [
    "LongsPeak_idx = WTK_idx(wtk, (40.2549, -105.6160))\n",
    "LongsPeak_idx"
   ]
  },
  {
   "cell_type": "code",
   "execution_count": 4,
   "metadata": {},
   "outputs": [
    {
     "name": "stdout",
     "output_type": "stream",
     "text": [
      "CPU times: user 3.51 s, sys: 69.1 ms, total: 3.58 s\n",
      "Wall time: 1min 58s\n"
     ]
    },
    {
     "data": {
      "text/html": [
       "<div>\n",
       "<style>\n",
       "    .dataframe thead tr:only-child th {\n",
       "        text-align: right;\n",
       "    }\n",
       "\n",
       "    .dataframe thead th {\n",
       "        text-align: left;\n",
       "    }\n",
       "\n",
       "    .dataframe tbody tr th {\n",
       "        vertical-align: top;\n",
       "    }\n",
       "</style>\n",
       "<table border=\"1\" class=\"dataframe\">\n",
       "  <thead>\n",
       "    <tr style=\"text-align: right;\">\n",
       "      <th></th>\n",
       "      <th>datetime</th>\n",
       "      <th>pressure_100m</th>\n",
       "      <th>temperature_100m</th>\n",
       "      <th>windspeed_100m</th>\n",
       "    </tr>\n",
       "  </thead>\n",
       "  <tbody>\n",
       "    <tr>\n",
       "      <th>0</th>\n",
       "      <td>2007-01-01 00:00:00</td>\n",
       "      <td>63688.468750</td>\n",
       "      <td>266.147339</td>\n",
       "      <td>9.109772</td>\n",
       "    </tr>\n",
       "    <tr>\n",
       "      <th>1</th>\n",
       "      <td>2007-01-01 01:00:00</td>\n",
       "      <td>63682.058594</td>\n",
       "      <td>266.312134</td>\n",
       "      <td>10.260323</td>\n",
       "    </tr>\n",
       "    <tr>\n",
       "      <th>2</th>\n",
       "      <td>2007-01-01 02:00:00</td>\n",
       "      <td>63661.000000</td>\n",
       "      <td>266.220581</td>\n",
       "      <td>11.548203</td>\n",
       "    </tr>\n",
       "    <tr>\n",
       "      <th>3</th>\n",
       "      <td>2007-01-01 03:00:00</td>\n",
       "      <td>63645.437500</td>\n",
       "      <td>266.174805</td>\n",
       "      <td>11.844231</td>\n",
       "    </tr>\n",
       "    <tr>\n",
       "      <th>4</th>\n",
       "      <td>2007-01-01 04:00:00</td>\n",
       "      <td>63644.519531</td>\n",
       "      <td>265.955078</td>\n",
       "      <td>12.570572</td>\n",
       "    </tr>\n",
       "  </tbody>\n",
       "</table>\n",
       "</div>"
      ],
      "text/plain": [
       "             datetime  pressure_100m  temperature_100m  windspeed_100m\n",
       "0 2007-01-01 00:00:00   63688.468750        266.147339        9.109772\n",
       "1 2007-01-01 01:00:00   63682.058594        266.312134       10.260323\n",
       "2 2007-01-01 02:00:00   63661.000000        266.220581       11.548203\n",
       "3 2007-01-01 03:00:00   63645.437500        266.174805       11.844231\n",
       "4 2007-01-01 04:00:00   63644.519531        265.955078       12.570572"
      ]
     },
     "execution_count": 4,
     "metadata": {},
     "output_type": "execute_result"
    }
   ],
   "source": [
    "%time df = pd.DataFrame({\"temperature_100m\": wtk['temperature_100m'][:, LongsPeak_idx[0], LongsPeak_idx[1]],\\\n",
    "                         \"windspeed_100m\": wtk['windspeed_100m'][:, LongsPeak_idx[0], LongsPeak_idx[1]],\\\n",
    "                         \"pressure_100m\": wtk['pressure_100m'][:, LongsPeak_idx[0], LongsPeak_idx[1]]},\\\n",
    "                         index=map(dateutil.parser.parse, wtk[\"datetime\"][:]))\n",
    "df.index.name = 'datetime'\n",
    "df.head()"
   ]
  },
  {
   "cell_type": "code",
   "execution_count": 5,
   "metadata": {},
   "outputs": [],
   "source": [
    "# save data to csv\n",
    "df.to_csv('longspeak_wtk.csv')"
   ]
  },
  {
   "cell_type": "markdown",
   "metadata": {},
   "source": [
    "### All Within Bounding Box"
   ]
  },
  {
   "cell_type": "code",
   "execution_count": 6,
   "metadata": {},
   "outputs": [
    {
     "name": "stdout",
     "output_type": "stream",
     "text": [
      "x range for Colorado = (924,1241)\n",
      "y range for Colorado = (729,982)\n"
     ]
    }
   ],
   "source": [
    "def indicesForBBox(wtk, lat_range, lon_range):\n",
    "    xmin = None\n",
    "    xmax = None\n",
    "    ymin = None\n",
    "    ymax = None\n",
    "    for i in [0,1]:\n",
    "        for j in [0,1]:\n",
    "            yx = WTK_idx(wtk, (lat_range[i], lon_range[j]))\n",
    "            if xmin is None or yx[1] < xmin:\n",
    "                xmin = yx[1]\n",
    "            if xmax is None or yx[1] > xmax:\n",
    "                xmax = yx[1]\n",
    "            if ymin is None or yx[0] < ymin:\n",
    "                ymin = yx[0]\n",
    "            if ymax is None or yx[0] > ymax:\n",
    "                ymax = yx[0]\n",
    "    return ([xmin, xmax], [ymin, ymax])\n",
    "\n",
    "# This bounding box is the state of Colorado, more or less\n",
    "(x_range,y_range) = indicesForBBox(wtk, [36.96744946416934, 41.02964338716638],\n",
    "                                   [-109.05029296875, -102.0849609375])\n",
    "\n",
    "print(\"x range for Colorado = (%d,%d)\" % (x_range[0], x_range[1]))\n",
    "print(\"y range for Colorado = (%d,%d)\" % (y_range[0], y_range[1]))"
   ]
  },
  {
   "cell_type": "code",
   "execution_count": 7,
   "metadata": {},
   "outputs": [
    {
     "name": "stdout",
     "output_type": "stream",
     "text": [
      "CPU times: user 3.68 ms, sys: 882 µs, total: 4.57 ms\n",
      "Wall time: 380 ms\n"
     ]
    }
   ],
   "source": [
    "# Get every other windspeed measurement within this box for a given time step\n",
    "dtdf = datetimeIndex(wtk)\n",
    "dset = wtk['windspeed_100m']\n",
    "timestep = dtdf.loc[dtdf.datetime == '2012-04-01 12:00:00'].index[0]\n",
    "%time data = dset[timestep, y_range[0]:y_range[1]:2, x_range[0]:x_range[1]:2]  # :2 means every second point"
   ]
  },
  {
   "cell_type": "code",
   "execution_count": 8,
   "metadata": {},
   "outputs": [
    {
     "data": {
      "text/plain": [
       "<matplotlib.image.AxesImage at 0x1190e2dd0>"
      ]
     },
     "execution_count": 8,
     "metadata": {},
     "output_type": "execute_result"
    },
    {
     "data": {
      "image/png": "[encoded data removed]",
      "text/plain": [
       "<matplotlib.figure.Figure at 0x118e1c650>"
      ]
     },
     "metadata": {},
     "output_type": "display_data"
    }
   ],
   "source": [
    "plt.imshow(data, origin=\"lower\")"
   ]
  },
  {
   "cell_type": "code",
   "execution_count": 9,
   "metadata": {},
   "outputs": [
    {
     "name": "stdout",
     "output_type": "stream",
     "text": [
      "There are ...\n",
      "  80201 points within this box a 2km resolution\n",
      "  19987 points within this box at 4km resolution\n",
      "  4996 points within this box at 8km resolution\n",
      "  1233 points within this box at 16km resolution\n"
     ]
    }
   ],
   "source": [
    "print( \"There are ...\")\n",
    "print( \"  %d points within this box a 2km resolution\" % ((x_range[1] - x_range[0]) * (y_range[1] - y_range[0]),))\n",
    "print( \"  %d points within this box at 4km resolution\" % ((x_range[1] - x_range[0]) / 2 * (y_range[1] - y_range[0]) / 2,))\n",
    "print( \"  %d points within this box at 8km resolution\" % ((x_range[1] - x_range[0]) / 4 * (y_range[1] - y_range[0]) / 4,))\n",
    "print( \"  %d points within this box at 16km resolution\" % ((x_range[1] - x_range[0]) / 8 * (y_range[1] - y_range[0]) / 8,))"
   ]
  },
  {
   "cell_type": "code",
   "execution_count": 18,
   "metadata": {},
   "outputs": [],
   "source": [
    "spacing = 8 # every 8th point is 16km resolution\n",
    "cube = dset[::(24 * 30), y_range[0]:y_range[1]:spacing, x_range[0]:x_range[1]:spacing] # every 30 days"
   ]
  },
  {
   "cell_type": "code",
   "execution_count": 24,
   "metadata": {},
   "outputs": [
    {
     "data": {
      "text/html": [
       "<div>\n",
       "<style>\n",
       "    .dataframe thead tr:only-child th {\n",
       "        text-align: right;\n",
       "    }\n",
       "\n",
       "    .dataframe thead th {\n",
       "        text-align: left;\n",
       "    }\n",
       "\n",
       "    .dataframe tbody tr th {\n",
       "        vertical-align: top;\n",
       "    }\n",
       "</style>\n",
       "<table border=\"1\" class=\"dataframe\">\n",
       "  <thead>\n",
       "    <tr style=\"text-align: right;\">\n",
       "      <th></th>\n",
       "      <th>datetime</th>\n",
       "      <th>-108.918,36.314</th>\n",
       "      <th>-108.738,36.337</th>\n",
       "      <th>-108.558,36.360</th>\n",
       "      <th>-108.377,36.383</th>\n",
       "      <th>-108.196,36.406</th>\n",
       "      <th>-108.016,36.428</th>\n",
       "      <th>-107.835,36.450</th>\n",
       "      <th>-107.654,36.471</th>\n",
       "      <th>-107.472,36.492</th>\n",
       "      <th>...</th>\n",
       "      <th>-104.031,41.443</th>\n",
       "      <th>-103.834,41.458</th>\n",
       "      <th>-103.637,41.472</th>\n",
       "      <th>-103.439,41.486</th>\n",
       "      <th>-103.242,41.500</th>\n",
       "      <th>-103.044,41.513</th>\n",
       "      <th>-102.846,41.526</th>\n",
       "      <th>-102.648,41.538</th>\n",
       "      <th>-102.450,41.551</th>\n",
       "      <th>-102.252,41.562</th>\n",
       "    </tr>\n",
       "  </thead>\n",
       "  <tbody>\n",
       "    <tr>\n",
       "      <th>0</th>\n",
       "      <td>20070101000000</td>\n",
       "      <td>1.232948</td>\n",
       "      <td>1.629692</td>\n",
       "      <td>1.474045</td>\n",
       "      <td>2.407913</td>\n",
       "      <td>1.113922</td>\n",
       "      <td>1.477097</td>\n",
       "      <td>1.120026</td>\n",
       "      <td>1.962341</td>\n",
       "      <td>1.522873</td>\n",
       "      <td>...</td>\n",
       "      <td>5.334633</td>\n",
       "      <td>5.923645</td>\n",
       "      <td>6.982635</td>\n",
       "      <td>8.450577</td>\n",
       "      <td>8.066040</td>\n",
       "      <td>7.095551</td>\n",
       "      <td>7.397690</td>\n",
       "      <td>7.837151</td>\n",
       "      <td>8.795433</td>\n",
       "      <td>9.939880</td>\n",
       "    </tr>\n",
       "    <tr>\n",
       "      <th>1</th>\n",
       "      <td>20070131000000</td>\n",
       "      <td>4.055908</td>\n",
       "      <td>1.318398</td>\n",
       "      <td>0.811790</td>\n",
       "      <td>7.196266</td>\n",
       "      <td>9.112823</td>\n",
       "      <td>8.435318</td>\n",
       "      <td>8.874786</td>\n",
       "      <td>8.508560</td>\n",
       "      <td>4.971466</td>\n",
       "      <td>...</td>\n",
       "      <td>9.378342</td>\n",
       "      <td>9.118927</td>\n",
       "      <td>9.991760</td>\n",
       "      <td>10.074158</td>\n",
       "      <td>10.666222</td>\n",
       "      <td>8.908356</td>\n",
       "      <td>5.746635</td>\n",
       "      <td>5.627617</td>\n",
       "      <td>7.068085</td>\n",
       "      <td>7.889038</td>\n",
       "    </tr>\n",
       "    <tr>\n",
       "      <th>2</th>\n",
       "      <td>20070302000000</td>\n",
       "      <td>9.503464</td>\n",
       "      <td>7.907349</td>\n",
       "      <td>9.765923</td>\n",
       "      <td>8.896149</td>\n",
       "      <td>10.589920</td>\n",
       "      <td>11.215553</td>\n",
       "      <td>11.651970</td>\n",
       "      <td>11.789299</td>\n",
       "      <td>13.245033</td>\n",
       "      <td>...</td>\n",
       "      <td>14.334541</td>\n",
       "      <td>14.014099</td>\n",
       "      <td>14.267403</td>\n",
       "      <td>13.580734</td>\n",
       "      <td>15.317238</td>\n",
       "      <td>13.931702</td>\n",
       "      <td>17.725151</td>\n",
       "      <td>12.323372</td>\n",
       "      <td>4.898224</td>\n",
       "      <td>6.878876</td>\n",
       "    </tr>\n",
       "    <tr>\n",
       "      <th>3</th>\n",
       "      <td>20070401000000</td>\n",
       "      <td>9.631645</td>\n",
       "      <td>5.987732</td>\n",
       "      <td>6.930756</td>\n",
       "      <td>7.416000</td>\n",
       "      <td>8.182014</td>\n",
       "      <td>8.984650</td>\n",
       "      <td>9.555344</td>\n",
       "      <td>11.316261</td>\n",
       "      <td>11.999878</td>\n",
       "      <td>...</td>\n",
       "      <td>11.181984</td>\n",
       "      <td>9.933777</td>\n",
       "      <td>10.150459</td>\n",
       "      <td>9.353920</td>\n",
       "      <td>9.222694</td>\n",
       "      <td>11.053802</td>\n",
       "      <td>11.615341</td>\n",
       "      <td>11.389511</td>\n",
       "      <td>11.590927</td>\n",
       "      <td>13.138222</td>\n",
       "    </tr>\n",
       "    <tr>\n",
       "      <th>4</th>\n",
       "      <td>20070501000000</td>\n",
       "      <td>6.634727</td>\n",
       "      <td>7.165749</td>\n",
       "      <td>7.733391</td>\n",
       "      <td>7.300026</td>\n",
       "      <td>6.323433</td>\n",
       "      <td>4.367195</td>\n",
       "      <td>4.599136</td>\n",
       "      <td>5.560471</td>\n",
       "      <td>6.070129</td>\n",
       "      <td>...</td>\n",
       "      <td>5.648979</td>\n",
       "      <td>5.734428</td>\n",
       "      <td>8.044678</td>\n",
       "      <td>8.673363</td>\n",
       "      <td>8.844261</td>\n",
       "      <td>9.183022</td>\n",
       "      <td>9.054840</td>\n",
       "      <td>10.046692</td>\n",
       "      <td>10.013123</td>\n",
       "      <td>10.696739</td>\n",
       "    </tr>\n",
       "  </tbody>\n",
       "</table>\n",
       "<p>5 rows × 1281 columns</p>\n",
       "</div>"
      ],
      "text/plain": [
       "         datetime  -108.918,36.314  -108.738,36.337  -108.558,36.360  \\\n",
       "0  20070101000000         1.232948         1.629692         1.474045   \n",
       "1  20070131000000         4.055908         1.318398         0.811790   \n",
       "2  20070302000000         9.503464         7.907349         9.765923   \n",
       "3  20070401000000         9.631645         5.987732         6.930756   \n",
       "4  20070501000000         6.634727         7.165749         7.733391   \n",
       "\n",
       "   -108.377,36.383  -108.196,36.406  -108.016,36.428  -107.835,36.450  \\\n",
       "0         2.407913         1.113922         1.477097         1.120026   \n",
       "1         7.196266         9.112823         8.435318         8.874786   \n",
       "2         8.896149        10.589920        11.215553        11.651970   \n",
       "3         7.416000         8.182014         8.984650         9.555344   \n",
       "4         7.300026         6.323433         4.367195         4.599136   \n",
       "\n",
       "   -107.654,36.471  -107.472,36.492       ...         -104.031,41.443  \\\n",
       "0         1.962341         1.522873       ...                5.334633   \n",
       "1         8.508560         4.971466       ...                9.378342   \n",
       "2        11.789299        13.245033       ...               14.334541   \n",
       "3        11.316261        11.999878       ...               11.181984   \n",
       "4         5.560471         6.070129       ...                5.648979   \n",
       "\n",
       "   -103.834,41.458  -103.637,41.472  -103.439,41.486  -103.242,41.500  \\\n",
       "0         5.923645         6.982635         8.450577         8.066040   \n",
       "1         9.118927         9.991760        10.074158        10.666222   \n",
       "2        14.014099        14.267403        13.580734        15.317238   \n",
       "3         9.933777        10.150459         9.353920         9.222694   \n",
       "4         5.734428         8.044678         8.673363         8.844261   \n",
       "\n",
       "   -103.044,41.513  -102.846,41.526  -102.648,41.538  -102.450,41.551  \\\n",
       "0         7.095551         7.397690         7.837151         8.795433   \n",
       "1         8.908356         5.746635         5.627617         7.068085   \n",
       "2        13.931702        17.725151        12.323372         4.898224   \n",
       "3        11.053802        11.615341        11.389511        11.590927   \n",
       "4         9.183022         9.054840        10.046692        10.013123   \n",
       "\n",
       "   -102.252,41.562  \n",
       "0         9.939880  \n",
       "1         7.889038  \n",
       "2         6.878876  \n",
       "3        13.138222  \n",
       "4        10.696739  \n",
       "\n",
       "[5 rows x 1281 columns]"
      ]
     },
     "execution_count": 24,
     "metadata": {},
     "output_type": "execute_result"
    }
   ],
   "source": [
    "# Convert data cube to a datafame where each location is a column\n",
    "ll_for_coords = wtk['coordinates'][y_range[0]:y_range[1]:spacing, x_range[0]:x_range[1]:spacing]\n",
    "df = pd.DataFrame()\n",
    "for i in range(len(ll_for_coords)):\n",
    "    for j in range(len(ll_for_coords[i])):\n",
    "        colname = \"%.03f,%.03f\" % (ll_for_coords[i][j][1], ll_for_coords[i][j][0])\n",
    "        df[colname] = cube[:, i, j]\n",
    "\n",
    "df.index = wtk[\"datetime\"][::(24 * 30)]\n",
    "df.index.name = 'datetime'\n",
    "        \n",
    "df.head()"
   ]
  },
  {
   "cell_type": "code",
   "execution_count": 25,
   "metadata": {
    "collapsed": true
   },
   "outputs": [],
   "source": [
    "df.to_csv(\"colorado_wtk-wspd.csv\")"
   ]
  },
  {
   "cell_type": "code",
   "execution_count": null,
   "metadata": {},
   "outputs": [],
   "source": [
    "wtk.close()"
   ]
  },
  {
   "cell_type": "markdown",
   "metadata": {},
   "source": [
    "## National Solar Radiation Database (NSRDB)\n",
    "### Single Multivariate Timeseries"
   ]
  },
  {
   "cell_type": "code",
   "execution_count": 2,
   "metadata": {
    "ExecuteTime": {
     "end_time": "2019-02-07T15:52:55.941025Z",
     "start_time": "2019-02-07T15:52:55.255015Z"
    }
   },
   "outputs": [
    {
     "data": {
      "text/plain": [
       "['air_temperature',\n",
       " 'clearsky_dhi',\n",
       " 'clearsky_dni',\n",
       " 'clearsky_ghi',\n",
       " 'cloud_type',\n",
       " 'coordinates',\n",
       " 'dew_point',\n",
       " 'dhi',\n",
       " 'dni',\n",
       " 'fill_flag',\n",
       " 'ghi',\n",
       " 'meta',\n",
       " 'relative_humidity',\n",
       " 'solar_zenith_angle',\n",
       " 'surface_albedo',\n",
       " 'surface_pressure',\n",
       " 'time_index',\n",
       " 'total_precipitable_water',\n",
       " 'wind_direction',\n",
       " 'wind_speed']"
      ]
     },
     "execution_count": 2,
     "metadata": {},
     "output_type": "execute_result"
    }
   ],
   "source": [
    "nsrdb = h5pyd.File(\"/nrel/nsrdb/nsrdb_2017.h5\", 'r')  \n",
    "list(nsrdb)"
   ]
  },
  {
   "cell_type": "code",
   "execution_count": 3,
   "metadata": {
    "ExecuteTime": {
     "end_time": "2019-02-07T15:53:11.050558Z",
     "start_time": "2019-02-07T15:52:56.187784Z"
    }
   },
   "outputs": [
    {
     "data": {
      "text/plain": [
       "152117"
      ]
     },
     "execution_count": 3,
     "metadata": {},
     "output_type": "execute_result"
    }
   ],
   "source": [
    "LongsPeak_idx = NSRDB_idx(nsrdb, (40.2549, -105.6160))\n",
    "LongsPeak_idx"
   ]
  },
  {
   "cell_type": "code",
   "execution_count": 16,
   "metadata": {
    "ExecuteTime": {
     "end_time": "2019-02-07T16:03:20.770596Z",
     "start_time": "2019-02-07T16:03:20.768204Z"
    }
   },
   "outputs": [],
   "source": [
    "# function to unscale nsrdb timeseries\n",
    "def unscale_dset(nsrdb, dset_name, idx):\n",
    "    dset = nsrdb[dset_name]\n",
    "    return dset[:, idx] / dset.attrs['psm_scale_factor']"
   ]
  },
  {
   "cell_type": "code",
   "execution_count": 17,
   "metadata": {
    "ExecuteTime": {
     "end_time": "2019-02-07T15:39:42.861321Z",
     "start_time": "2019-02-07T15:39:34.376266Z"
    }
   },
   "outputs": [
    {
     "name": "stdout",
     "output_type": "stream",
     "text": [
      "CPU times: user 41.4 ms, sys: 8.54 ms, total: 49.9 ms\n",
      "Wall time: 8.47 s\n"
     ]
    },
    {
     "data": {
      "text/html": [
       "<div>\n",
       "<style scoped>\n",
       "    .dataframe tbody tr th:only-of-type {\n",
       "        vertical-align: middle;\n",
       "    }\n",
       "\n",
       "    .dataframe tbody tr th {\n",
       "        vertical-align: top;\n",
       "    }\n",
       "\n",
       "    .dataframe thead th {\n",
       "        text-align: right;\n",
       "    }\n",
       "</style>\n",
       "<table border=\"1\" class=\"dataframe\">\n",
       "  <thead>\n",
       "    <tr style=\"text-align: right;\">\n",
       "      <th></th>\n",
       "      <th>air_temperature</th>\n",
       "      <th>wind_speed</th>\n",
       "      <th>ghi</th>\n",
       "      <th>dhi</th>\n",
       "      <th>dni</th>\n",
       "    </tr>\n",
       "    <tr>\n",
       "      <th>datetime</th>\n",
       "      <th></th>\n",
       "      <th></th>\n",
       "      <th></th>\n",
       "      <th></th>\n",
       "      <th></th>\n",
       "    </tr>\n",
       "  </thead>\n",
       "  <tbody>\n",
       "    <tr>\n",
       "      <th>2017-01-01 00:00:00</th>\n",
       "      <td>-6.0</td>\n",
       "      <td>0.9</td>\n",
       "      <td>0.0</td>\n",
       "      <td>0.0</td>\n",
       "      <td>0.0</td>\n",
       "    </tr>\n",
       "    <tr>\n",
       "      <th>2017-01-01 00:30:00</th>\n",
       "      <td>-6.0</td>\n",
       "      <td>1.0</td>\n",
       "      <td>0.0</td>\n",
       "      <td>0.0</td>\n",
       "      <td>0.0</td>\n",
       "    </tr>\n",
       "    <tr>\n",
       "      <th>2017-01-01 01:00:00</th>\n",
       "      <td>-6.0</td>\n",
       "      <td>1.1</td>\n",
       "      <td>0.0</td>\n",
       "      <td>0.0</td>\n",
       "      <td>0.0</td>\n",
       "    </tr>\n",
       "    <tr>\n",
       "      <th>2017-01-01 01:30:00</th>\n",
       "      <td>-6.0</td>\n",
       "      <td>1.3</td>\n",
       "      <td>0.0</td>\n",
       "      <td>0.0</td>\n",
       "      <td>0.0</td>\n",
       "    </tr>\n",
       "    <tr>\n",
       "      <th>2017-01-01 02:00:00</th>\n",
       "      <td>-7.0</td>\n",
       "      <td>1.6</td>\n",
       "      <td>0.0</td>\n",
       "      <td>0.0</td>\n",
       "      <td>0.0</td>\n",
       "    </tr>\n",
       "  </tbody>\n",
       "</table>\n",
       "</div>"
      ],
      "text/plain": [
       "                     air_temperature  wind_speed  ghi  dhi  dni\n",
       "datetime                                                       \n",
       "2017-01-01 00:00:00             -6.0         0.9  0.0  0.0  0.0\n",
       "2017-01-01 00:30:00             -6.0         1.0  0.0  0.0  0.0\n",
       "2017-01-01 01:00:00             -6.0         1.1  0.0  0.0  0.0\n",
       "2017-01-01 01:30:00             -6.0         1.3  0.0  0.0  0.0\n",
       "2017-01-01 02:00:00             -7.0         1.6  0.0  0.0  0.0"
      ]
     },
     "execution_count": 17,
     "metadata": {},
     "output_type": "execute_result"
    }
   ],
   "source": [
    "%time df = pd.DataFrame({\"air_temperature\": unscale_dset(nsrdb, 'air_temperature', LongsPeak_idx),\\\n",
    "                         \"wind_speed\": unscale_dset(nsrdb, 'wind_speed', LongsPeak_idx),\\\n",
    "                         \"ghi\": unscale_dset(nsrdb, 'ghi', LongsPeak_idx),\\\n",
    "                         \"dhi\": unscale_dset(nsrdb, 'dhi', LongsPeak_idx),\\\n",
    "                         \"dni\": unscale_dset(nsrdb, 'dni', LongsPeak_idx)},\\\n",
    "                        index=nsrdb['time_index'][...].astype(str))\n",
    "df.index.name = 'datetime'\n",
    "df.head()"
   ]
  },
  {
   "cell_type": "code",
   "execution_count": null,
   "metadata": {},
   "outputs": [],
   "source": [
    "# save data to csv\n",
    "df.to_csv('longspeak_nsrdb.csv')"
   ]
  },
  {
   "cell_type": "markdown",
   "metadata": {},
   "source": [
    "### Variable for a geographic region (State)"
   ]
  },
  {
   "cell_type": "code",
   "execution_count": 20,
   "metadata": {
    "ExecuteTime": {
     "end_time": "2019-02-07T17:07:50.435520Z",
     "start_time": "2019-02-07T17:06:55.479165Z"
    }
   },
   "outputs": [],
   "source": [
    "def metaForState(nsrdb, state):\n",
    "    meta = pd.DataFrame(nsrdb['meta'][...])\n",
    "    state = meta.loc[meta['state'] == str.encode(state)] # Note .h5 saves strings as bit-strings\n",
    "    return state\n",
    "\n",
    "# Extract all of Colorado\n",
    "CO_sites = metaForState(nsrdb, 'Colorado')"
   ]
  },
  {
   "cell_type": "code",
   "execution_count": 22,
   "metadata": {
    "ExecuteTime": {
     "end_time": "2019-02-07T17:09:51.996481Z",
     "start_time": "2019-02-07T17:09:51.992281Z"
    }
   },
   "outputs": [
    {
     "name": "stdout",
     "output_type": "stream",
     "text": [
      "There are ...\n",
      "  17500 points within CO at 4km resolution\n",
      "  8750 points within CO at 8km resolution\n",
      "  4375 points within CO at 16km resolution\n"
     ]
    }
   ],
   "source": [
    "print( \"There are ...\")\n",
    "print( \"  {} points within CO at 4km resolution\".format(len(CO_sites)))\n",
    "print( \"  {} points within CO at 8km resolution\".format(len(CO_sites[::2])))\n",
    "print( \"  {} points within CO at 16km resolution\".format(len(CO_sites[::4])))"
   ]
  },
  {
   "cell_type": "code",
   "execution_count": 6,
   "metadata": {
    "ExecuteTime": {
     "end_time": "2019-02-07T15:54:48.996087Z",
     "start_time": "2019-02-07T15:54:43.625632Z"
    }
   },
   "outputs": [
    {
     "data": {
      "image/png": "[encoded data removed]",
      "text/plain": [
       "<Figure size 432x288 with 2 Axes>"
      ]
     },
     "metadata": {
      "needs_background": "light"
     },
     "output_type": "display_data"
    }
   ],
   "source": [
    "# Map GHI for July 4th\n",
    "time_index = pd.to_datetime(nsrdb['time_index'][...].astype(str))\n",
    "timestep = np.where(time_index == '2017-07-04 20:00:00')[0][0]\n",
    "ghi = nsrdb['ghi'][timestep][CO_sites.index] / nsrdb['ghi'].attrs['psm_scale_factor']\n",
    "df = CO_sites[['longitude', 'latitude']].copy()\n",
    "df['ghi'] = ghi\n",
    "\n",
    "df.plot.scatter(x='longitude', y='latitude', c='ghi',\n",
    "                colormap='YlOrRd',\n",
    "                title=str(time_index[timestep]))\n",
    "plt.show()"
   ]
  },
  {
   "cell_type": "code",
   "execution_count": 23,
   "metadata": {
    "ExecuteTime": {
     "end_time": "2019-02-07T17:54:19.313036Z",
     "start_time": "2019-02-07T17:10:02.167843Z"
    }
   },
   "outputs": [
    {
     "data": {
      "text/html": [
       "<div>\n",
       "<style scoped>\n",
       "    .dataframe tbody tr th:only-of-type {\n",
       "        vertical-align: middle;\n",
       "    }\n",
       "\n",
       "    .dataframe tbody tr th {\n",
       "        vertical-align: top;\n",
       "    }\n",
       "\n",
       "    .dataframe thead th {\n",
       "        text-align: right;\n",
       "    }\n",
       "</style>\n",
       "<table border=\"1\" class=\"dataframe\">\n",
       "  <thead>\n",
       "    <tr style=\"text-align: right;\">\n",
       "      <th></th>\n",
       "      <th>37.01, -109.02</th>\n",
       "      <th>37.01, -108.86</th>\n",
       "      <th>37.01, -108.70</th>\n",
       "      <th>37.01, -108.54</th>\n",
       "      <th>37.01, -108.38</th>\n",
       "      <th>37.01, -108.22</th>\n",
       "      <th>37.01, -108.06</th>\n",
       "      <th>37.01, -107.90</th>\n",
       "      <th>37.01, -107.74</th>\n",
       "      <th>37.01, -107.58</th>\n",
       "      <th>...</th>\n",
       "      <th>40.61, -102.06</th>\n",
       "      <th>40.41, -102.06</th>\n",
       "      <th>38.53, -102.06</th>\n",
       "      <th>37.17, -102.06</th>\n",
       "      <th>39.69, -102.06</th>\n",
       "      <th>39.13, -102.06</th>\n",
       "      <th>38.49, -102.06</th>\n",
       "      <th>37.49, -102.06</th>\n",
       "      <th>38.37, -102.06</th>\n",
       "      <th>38.73, -102.06</th>\n",
       "    </tr>\n",
       "    <tr>\n",
       "      <th>datetime</th>\n",
       "      <th></th>\n",
       "      <th></th>\n",
       "      <th></th>\n",
       "      <th></th>\n",
       "      <th></th>\n",
       "      <th></th>\n",
       "      <th></th>\n",
       "      <th></th>\n",
       "      <th></th>\n",
       "      <th></th>\n",
       "      <th></th>\n",
       "      <th></th>\n",
       "      <th></th>\n",
       "      <th></th>\n",
       "      <th></th>\n",
       "      <th></th>\n",
       "      <th></th>\n",
       "      <th></th>\n",
       "      <th></th>\n",
       "      <th></th>\n",
       "      <th></th>\n",
       "    </tr>\n",
       "  </thead>\n",
       "  <tbody>\n",
       "    <tr>\n",
       "      <th>2017-01-01 00:00:00</th>\n",
       "      <td>0.0</td>\n",
       "      <td>0.0</td>\n",
       "      <td>0.0</td>\n",
       "      <td>0.0</td>\n",
       "      <td>0.0</td>\n",
       "      <td>0.0</td>\n",
       "      <td>0.0</td>\n",
       "      <td>0.0</td>\n",
       "      <td>0.0</td>\n",
       "      <td>0.0</td>\n",
       "      <td>...</td>\n",
       "      <td>0.0</td>\n",
       "      <td>0.0</td>\n",
       "      <td>0.0</td>\n",
       "      <td>0.0</td>\n",
       "      <td>0.0</td>\n",
       "      <td>0.0</td>\n",
       "      <td>0.0</td>\n",
       "      <td>0.0</td>\n",
       "      <td>0.0</td>\n",
       "      <td>0.0</td>\n",
       "    </tr>\n",
       "    <tr>\n",
       "      <th>2017-01-01 01:00:00</th>\n",
       "      <td>0.0</td>\n",
       "      <td>0.0</td>\n",
       "      <td>0.0</td>\n",
       "      <td>0.0</td>\n",
       "      <td>0.0</td>\n",
       "      <td>0.0</td>\n",
       "      <td>0.0</td>\n",
       "      <td>0.0</td>\n",
       "      <td>0.0</td>\n",
       "      <td>0.0</td>\n",
       "      <td>...</td>\n",
       "      <td>0.0</td>\n",
       "      <td>0.0</td>\n",
       "      <td>0.0</td>\n",
       "      <td>0.0</td>\n",
       "      <td>0.0</td>\n",
       "      <td>0.0</td>\n",
       "      <td>0.0</td>\n",
       "      <td>0.0</td>\n",
       "      <td>0.0</td>\n",
       "      <td>0.0</td>\n",
       "    </tr>\n",
       "    <tr>\n",
       "      <th>2017-01-01 02:00:00</th>\n",
       "      <td>0.0</td>\n",
       "      <td>0.0</td>\n",
       "      <td>0.0</td>\n",
       "      <td>0.0</td>\n",
       "      <td>0.0</td>\n",
       "      <td>0.0</td>\n",
       "      <td>0.0</td>\n",
       "      <td>0.0</td>\n",
       "      <td>0.0</td>\n",
       "      <td>0.0</td>\n",
       "      <td>...</td>\n",
       "      <td>0.0</td>\n",
       "      <td>0.0</td>\n",
       "      <td>0.0</td>\n",
       "      <td>0.0</td>\n",
       "      <td>0.0</td>\n",
       "      <td>0.0</td>\n",
       "      <td>0.0</td>\n",
       "      <td>0.0</td>\n",
       "      <td>0.0</td>\n",
       "      <td>0.0</td>\n",
       "    </tr>\n",
       "    <tr>\n",
       "      <th>2017-01-01 03:00:00</th>\n",
       "      <td>0.0</td>\n",
       "      <td>0.0</td>\n",
       "      <td>0.0</td>\n",
       "      <td>0.0</td>\n",
       "      <td>0.0</td>\n",
       "      <td>0.0</td>\n",
       "      <td>0.0</td>\n",
       "      <td>0.0</td>\n",
       "      <td>0.0</td>\n",
       "      <td>0.0</td>\n",
       "      <td>...</td>\n",
       "      <td>0.0</td>\n",
       "      <td>0.0</td>\n",
       "      <td>0.0</td>\n",
       "      <td>0.0</td>\n",
       "      <td>0.0</td>\n",
       "      <td>0.0</td>\n",
       "      <td>0.0</td>\n",
       "      <td>0.0</td>\n",
       "      <td>0.0</td>\n",
       "      <td>0.0</td>\n",
       "    </tr>\n",
       "    <tr>\n",
       "      <th>2017-01-01 04:00:00</th>\n",
       "      <td>0.0</td>\n",
       "      <td>0.0</td>\n",
       "      <td>0.0</td>\n",
       "      <td>0.0</td>\n",
       "      <td>0.0</td>\n",
       "      <td>0.0</td>\n",
       "      <td>0.0</td>\n",
       "      <td>0.0</td>\n",
       "      <td>0.0</td>\n",
       "      <td>0.0</td>\n",
       "      <td>...</td>\n",
       "      <td>0.0</td>\n",
       "      <td>0.0</td>\n",
       "      <td>0.0</td>\n",
       "      <td>0.0</td>\n",
       "      <td>0.0</td>\n",
       "      <td>0.0</td>\n",
       "      <td>0.0</td>\n",
       "      <td>0.0</td>\n",
       "      <td>0.0</td>\n",
       "      <td>0.0</td>\n",
       "    </tr>\n",
       "  </tbody>\n",
       "</table>\n",
       "<p>5 rows × 4375 columns</p>\n",
       "</div>"
      ],
      "text/plain": [
       "                     37.01, -109.02  37.01, -108.86  37.01, -108.70  \\\n",
       "datetime                                                              \n",
       "2017-01-01 00:00:00             0.0             0.0             0.0   \n",
       "2017-01-01 01:00:00             0.0             0.0             0.0   \n",
       "2017-01-01 02:00:00             0.0             0.0             0.0   \n",
       "2017-01-01 03:00:00             0.0             0.0             0.0   \n",
       "2017-01-01 04:00:00             0.0             0.0             0.0   \n",
       "\n",
       "                     37.01, -108.54  37.01, -108.38  37.01, -108.22  \\\n",
       "datetime                                                              \n",
       "2017-01-01 00:00:00             0.0             0.0             0.0   \n",
       "2017-01-01 01:00:00             0.0             0.0             0.0   \n",
       "2017-01-01 02:00:00             0.0             0.0             0.0   \n",
       "2017-01-01 03:00:00             0.0             0.0             0.0   \n",
       "2017-01-01 04:00:00             0.0             0.0             0.0   \n",
       "\n",
       "                     37.01, -108.06  37.01, -107.90  37.01, -107.74  \\\n",
       "datetime                                                              \n",
       "2017-01-01 00:00:00             0.0             0.0             0.0   \n",
       "2017-01-01 01:00:00             0.0             0.0             0.0   \n",
       "2017-01-01 02:00:00             0.0             0.0             0.0   \n",
       "2017-01-01 03:00:00             0.0             0.0             0.0   \n",
       "2017-01-01 04:00:00             0.0             0.0             0.0   \n",
       "\n",
       "                     37.01, -107.58       ...        40.61, -102.06  \\\n",
       "datetime                                  ...                         \n",
       "2017-01-01 00:00:00             0.0       ...                   0.0   \n",
       "2017-01-01 01:00:00             0.0       ...                   0.0   \n",
       "2017-01-01 02:00:00             0.0       ...                   0.0   \n",
       "2017-01-01 03:00:00             0.0       ...                   0.0   \n",
       "2017-01-01 04:00:00             0.0       ...                   0.0   \n",
       "\n",
       "                     40.41, -102.06  38.53, -102.06  37.17, -102.06  \\\n",
       "datetime                                                              \n",
       "2017-01-01 00:00:00             0.0             0.0             0.0   \n",
       "2017-01-01 01:00:00             0.0             0.0             0.0   \n",
       "2017-01-01 02:00:00             0.0             0.0             0.0   \n",
       "2017-01-01 03:00:00             0.0             0.0             0.0   \n",
       "2017-01-01 04:00:00             0.0             0.0             0.0   \n",
       "\n",
       "                     39.69, -102.06  39.13, -102.06  38.49, -102.06  \\\n",
       "datetime                                                              \n",
       "2017-01-01 00:00:00             0.0             0.0             0.0   \n",
       "2017-01-01 01:00:00             0.0             0.0             0.0   \n",
       "2017-01-01 02:00:00             0.0             0.0             0.0   \n",
       "2017-01-01 03:00:00             0.0             0.0             0.0   \n",
       "2017-01-01 04:00:00             0.0             0.0             0.0   \n",
       "\n",
       "                     37.49, -102.06  38.37, -102.06  38.73, -102.06  \n",
       "datetime                                                             \n",
       "2017-01-01 00:00:00             0.0             0.0             0.0  \n",
       "2017-01-01 01:00:00             0.0             0.0             0.0  \n",
       "2017-01-01 02:00:00             0.0             0.0             0.0  \n",
       "2017-01-01 03:00:00             0.0             0.0             0.0  \n",
       "2017-01-01 04:00:00             0.0             0.0             0.0  \n",
       "\n",
       "[5 rows x 4375 columns]"
      ]
     },
     "execution_count": 23,
     "metadata": {},
     "output_type": "execute_result"
    }
   ],
   "source": [
    "# Pull hourly ghi for every 4th site in CO:\n",
    "df = pd.DataFrame()\n",
    "for idx, row in CO_sites.iloc[::4].iterrows():\n",
    "    lat_lon = '{:.2f}, {:.2f}'.format(*row[['latitude', 'longitude']].values)\n",
    "    df[lat_lon] = unscale_dset(nsrdb, 'ghi', idx)[::2]\n",
    "\n",
    "df.index = time_index[::2]\n",
    "df.index.name = 'datetime'\n",
    "df.head()"
   ]
  },
  {
   "cell_type": "code",
   "execution_count": null,
   "metadata": {},
   "outputs": [],
   "source": [
    "# Save to .csv\n",
    "df.to_csv(\"colorado_nsrdb-ghi.csv\")"
   ]
  },
  {
   "cell_type": "code",
   "execution_count": 24,
   "metadata": {
    "ExecuteTime": {
     "end_time": "2019-02-07T17:54:19.319185Z",
     "start_time": "2019-02-07T17:54:19.315876Z"
    }
   },
   "outputs": [],
   "source": [
    "nsrdb.close()"
   ]
  },
  {
   "cell_type": "code",
   "execution_count": null,
   "metadata": {},
   "outputs": [],
   "source": []
  }
 ],
 "metadata": {
  "kernelspec": {
   "display_name": "Python [conda env:hsds]",
   "language": "python",
   "name": "conda-env-hsds-py"
  },
  "language_info": {
   "codemirror_mode": {
    "name": "ipython",
    "version": 3
   },
   "file_extension": ".py",
   "mimetype": "text/x-python",
   "name": "python",
   "nbconvert_exporter": "python",
   "pygments_lexer": "ipython3",
   "version": "3.7.2"
  }
 },
 "nbformat": 4,
 "nbformat_minor": 2
}
