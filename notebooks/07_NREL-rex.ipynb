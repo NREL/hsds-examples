{
 "cells": [
  {
   "cell_type": "markdown",
   "metadata": {},
   "source": [
    "#  NSRDB and WTK Data Slicing"
   ]
  },
  {
   "cell_type": "markdown",
   "metadata": {},
   "source": [
    "This notebook demonstrates data slicing for the National Renewable Energy Laboratory (NREL) National Solar Radiation Database (NSRDB) data. The data is provided from Amazon Web Services using the HDF Group's Highly Scalable Data Service (HSDS). These slicing methods would also work with the WIND Toolkit data available via HSDS at /nrel/wtk/\n",
    "\n",
    "For this to work you must first install h5pyd:\n",
    "\n",
    "```\n",
    "pip install --user h5pyd\n",
    "```\n",
    "\n",
    "Next you'll need to configure HSDS:\n",
    "\n",
    "```\n",
    "hsconfigure\n",
    "```\n",
    "\n",
    "and enter at the prompt:\n",
    "\n",
    "```\n",
    "hs_endpoint = https://developer.nrel.gov/api/hsds\n",
    "hs_username = None\n",
    "hs_password = None\n",
    "hs_api_key = 3K3JQbjZmWctY0xmIfSYvYgtIcM3CN0cb1Y2w9bf\n",
    "```\n",
    "\n",
    "*The example API key here is for demonstation and is rate-limited per IP. To get your own API key, visit https://developer.nrel.gov/signup/*\n",
    "\n",
    "You can also add the above contents to a configuration file at ~/.hscfg\n",
    "\n",
    "This example will also be using NREL's Resource Extraction Tools package [`NREL-rex`](https://github.com/nrel/rex) which can be installed with pip:\n",
    "```\n",
    "pip install NREL-rex\n",
    "```\n",
    "or with conda:\n",
    "```\n",
    "conda install nrel-rex\n",
    "```"
   ]
  },
  {
   "cell_type": "code",
   "execution_count": 1,
   "metadata": {
    "ExecuteTime": {
     "end_time": "2019-06-13T20:12:46.350659Z",
     "start_time": "2019-06-13T20:11:46.936643Z"
    }
   },
   "outputs": [],
   "source": [
    "%matplotlib inline\n",
    "import matplotlib.pyplot as plt\n",
    "import seaborn as sns\n",
    "import sys\n",
    "from rex import NSRDBX, WindX"
   ]
  },
  {
   "cell_type": "markdown",
   "metadata": {},
   "source": [
    "# NSRSBX"
   ]
  },
  {
   "cell_type": "code",
   "execution_count": null,
   "metadata": {},
   "outputs": [],
   "source": [
    "# NSRDBX is a wrapper on h5py and h5pyd that simplifies extraction of NSRDB data\n",
    "# It automatically converts the meta data to a pandas DataFrame\n",
    "# The time_index to a pandas DatatimeIndex\n",
    "# And unscales NSRDB datasets\n",
    "# NOTE: the syntax for extracting datasets is different from h5py/h5pyd!!\n",
    "nsrdb_file = '/nrel/nsrdb/v3/nsrdb_2010.h5'\n",
    "with NSRDBX(nsrdb_file, hsds=True) as f:\n",
    "    meta = f.meta\n",
    "    time_index = f.time_index\n",
    "    dni = f['dni', :, ::1000]\n",
    "\n",
    "display(meta.head())\n",
    "diplay(time_index)\n",
    "dni.shape"
   ]
  },
  {
   "cell_type": "code",
   "execution_count": 10,
   "metadata": {
    "ExecuteTime": {
     "end_time": "2019-06-13T20:12:52.821861Z",
     "start_time": "2019-06-13T20:12:52.815146Z"
    }
   },
   "outputs": [],
   "source": [
    "# NSRDBX also allows easy extraction of the nearest site to a desired (lat, lon) location:\n",
    "coords = (39.741931, -105.169891)\n",
    "with NSRDBX(nsrdb_file, hsds=True) as f:\n",
    "    dni_df = f.get_lat_lon_df('dni', coords)\n",
    "\n",
    "sns.scatterplot(x=\"time_index\", y=\"dni\", data=dni_df)"
   ]
  },
  {
   "cell_type": "code",
   "execution_count": null,
   "metadata": {},
   "outputs": [],
   "source": [
    "# NSRDBX can also filter on differnt meta data columns\n",
    "state='Colorado'\n",
    "with NSRDBX(nsrdb_file, hsds=True) as f:\n",
    "    state_dni = f.get_region_df('dni', state, region_col='state')"
   ]
  },
  {
   "cell_type": "code",
   "execution_count": null,
   "metadata": {},
   "outputs": [],
   "source": []
  }
 ],
 "metadata": {
  "kernelspec": {
   "display_name": "Python 3.7.4 64-bit ('base': conda)",
   "language": "python",
   "name": "python37464bitbaseconda1a6f5b8a073840daa8c92b96dd5232cf"
  },
  "language_info": {
   "codemirror_mode": {
    "name": "ipython",
    "version": 3
   },
   "file_extension": ".py",
   "mimetype": "text/x-python",
   "name": "python",
   "nbconvert_exporter": "python",
   "pygments_lexer": "ipython3",
   "version": "3.7.7-final"
  }
 },
 "nbformat": 4,
 "nbformat_minor": 2
}